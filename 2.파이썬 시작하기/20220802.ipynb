{
 "cells": [
  {
   "cell_type": "markdown",
   "id": "e28ed9f8",
   "metadata": {},
   "source": [
    "# 2.2 파이썬 기본"
   ]
  },
  {
   "cell_type": "markdown",
   "id": "90d8f210",
   "metadata": {},
   "source": [
    "- 문자열"
   ]
  },
  {
   "cell_type": "code",
   "execution_count": 2,
   "id": "73a77e56",
   "metadata": {},
   "outputs": [
    {
     "data": {
      "text/plain": [
       "'Hello\\nbro!'"
      ]
     },
     "execution_count": 2,
     "metadata": {},
     "output_type": "execute_result"
    }
   ],
   "source": [
    "msg3='Hello\\nbro!'\n",
    "msg3"
   ]
  },
  {
   "cell_type": "code",
   "execution_count": 3,
   "id": "5b27f2c9",
   "metadata": {},
   "outputs": [
    {
     "name": "stdout",
     "output_type": "stream",
     "text": [
      "Hello\n",
      "bro!\n"
     ]
    }
   ],
   "source": [
    "print(msg3)"
   ]
  },
  {
   "cell_type": "code",
   "execution_count": 4,
   "id": "72fee02d",
   "metadata": {},
   "outputs": [
    {
     "data": {
      "text/plain": [
       "'hello\\nbro!'"
      ]
     },
     "execution_count": 4,
     "metadata": {},
     "output_type": "execute_result"
    }
   ],
   "source": [
    "msg4='''hello\n",
    "bro!'''\n",
    "msg4"
   ]
  },
  {
   "cell_type": "code",
   "execution_count": 5,
   "id": "63972ff7",
   "metadata": {},
   "outputs": [
    {
     "name": "stdout",
     "output_type": "stream",
     "text": [
      "hello\n",
      "bro!\n"
     ]
    }
   ],
   "source": [
    "print(msg4)"
   ]
  },
  {
   "cell_type": "markdown",
   "id": "9b7004c6",
   "metadata": {},
   "source": [
    "- 리스트"
   ]
  },
  {
   "cell_type": "markdown",
   "id": "165cc426",
   "metadata": {},
   "source": [
    "- - 리스트 인덱싱, 슬라이싱"
   ]
  },
  {
   "cell_type": "code",
   "execution_count": 6,
   "id": "f95d80a5",
   "metadata": {},
   "outputs": [
    {
     "data": {
      "text/plain": [
       "2"
      ]
     },
     "execution_count": 6,
     "metadata": {},
     "output_type": "execute_result"
    }
   ],
   "source": [
    "nums=[1,2,3,4,5]\n",
    "nums[1]"
   ]
  },
  {
   "cell_type": "code",
   "execution_count": 7,
   "id": "0a4a99b0",
   "metadata": {},
   "outputs": [
    {
     "data": {
      "text/plain": [
       "[4, 5]"
      ]
     },
     "execution_count": 7,
     "metadata": {},
     "output_type": "execute_result"
    }
   ],
   "source": [
    "nums[-2:]"
   ]
  },
  {
   "cell_type": "code",
   "execution_count": 8,
   "id": "058e31db",
   "metadata": {},
   "outputs": [
    {
     "data": {
      "text/plain": [
       "[2, 3]"
      ]
     },
     "execution_count": 8,
     "metadata": {},
     "output_type": "execute_result"
    }
   ],
   "source": [
    "nums[1:-2]"
   ]
  },
  {
   "cell_type": "markdown",
   "id": "7a86db1f",
   "metadata": {},
   "source": [
    "---"
   ]
  },
  {
   "cell_type": "markdown",
   "id": "80dc915f",
   "metadata": {},
   "source": [
    "# 2.2.2 파이썬 제어문"
   ]
  },
  {
   "cell_type": "markdown",
   "id": "06ade613",
   "metadata": {},
   "source": [
    "- for문\n",
    "- - 딕셔너리의 keys()"
   ]
  },
  {
   "cell_type": "code",
   "execution_count": 9,
   "id": "61320845",
   "metadata": {},
   "outputs": [
    {
     "data": {
      "text/plain": [
       "dict_keys(['name', 'age', 'nationality'])"
      ]
     },
     "execution_count": 9,
     "metadata": {},
     "output_type": "execute_result"
    }
   ],
   "source": [
    "user={'name':'Kei', 'age':35, 'nationality':'Korea'}\n",
    "user.keys()"
   ]
  },
  {
   "cell_type": "code",
   "execution_count": 10,
   "id": "33cf8587",
   "metadata": {},
   "outputs": [
    {
     "name": "stdout",
     "output_type": "stream",
     "text": [
      "name\n",
      "age\n",
      "nationality\n"
     ]
    }
   ],
   "source": [
    "for k in user.keys():\n",
    "    print(k)"
   ]
  },
  {
   "cell_type": "markdown",
   "id": "bd97a57d",
   "metadata": {},
   "source": [
    "- - 딕셔너리의 values() 함수 이용"
   ]
  },
  {
   "cell_type": "code",
   "execution_count": 11,
   "id": "cfcf2a19",
   "metadata": {},
   "outputs": [
    {
     "data": {
      "text/plain": [
       "dict_values(['Kei', 35, 'Korea'])"
      ]
     },
     "execution_count": 11,
     "metadata": {},
     "output_type": "execute_result"
    }
   ],
   "source": [
    "user.values()"
   ]
  },
  {
   "cell_type": "markdown",
   "id": "9dcb21ea",
   "metadata": {},
   "source": [
    "- - items()"
   ]
  },
  {
   "cell_type": "code",
   "execution_count": 12,
   "id": "18a9defc",
   "metadata": {},
   "outputs": [
    {
     "data": {
      "text/plain": [
       "dict_items([('name', 'Kei'), ('age', 35), ('nationality', 'Korea')])"
      ]
     },
     "execution_count": 12,
     "metadata": {},
     "output_type": "execute_result"
    }
   ],
   "source": [
    "user.items()"
   ]
  },
  {
   "cell_type": "markdown",
   "id": "f0cd0a38",
   "metadata": {},
   "source": [
    "---"
   ]
  },
  {
   "cell_type": "markdown",
   "id": "025e44a2",
   "metadata": {},
   "source": [
    "# 2.2.3 함수"
   ]
  },
  {
   "cell_type": "markdown",
   "id": "d4175341",
   "metadata": {},
   "source": [
    "- 내장함수\n",
    "- - format()"
   ]
  },
  {
   "cell_type": "code",
   "execution_count": 13,
   "id": "a4988608",
   "metadata": {},
   "outputs": [
    {
     "name": "stdout",
     "output_type": "stream",
     "text": [
      " integer:10 / float:3.14 / string:hello\n"
     ]
    }
   ],
   "source": [
    "print(' integer:{} / float:{} / string:{}'.format(10, 3.14, 'hello'))"
   ]
  },
  {
   "cell_type": "markdown",
   "id": "3a269f2e",
   "metadata": {},
   "source": [
    "- - join()"
   ]
  },
  {
   "cell_type": "code",
   "execution_count": 14,
   "id": "0c3e27bf",
   "metadata": {},
   "outputs": [
    {
     "data": {
      "text/plain": [
       "'Kei,Tonny,Grace,Jenny,Jaeyoo'"
      ]
     },
     "execution_count": 14,
     "metadata": {},
     "output_type": "execute_result"
    }
   ],
   "source": [
    "names=['Kei', 'Tonny', 'Grace', 'Jenny', 'Jaeyoo']\n",
    "','.join(names)"
   ]
  },
  {
   "cell_type": "code",
   "execution_count": 15,
   "id": "cc958c8b",
   "metadata": {},
   "outputs": [
    {
     "data": {
      "text/plain": [
       "'Kei/Tonny/Grace/Jenny/Jaeyoo'"
      ]
     },
     "execution_count": 15,
     "metadata": {},
     "output_type": "execute_result"
    }
   ],
   "source": [
    "'/'.join(names)"
   ]
  },
  {
   "cell_type": "code",
   "execution_count": 17,
   "id": "d2705a17",
   "metadata": {},
   "outputs": [
    {
     "data": {
      "text/plain": [
       "'Kei,Tonny,Grace,Jenny,Jaeyoo'"
      ]
     },
     "execution_count": 17,
     "metadata": {},
     "output_type": "execute_result"
    }
   ],
   "source": [
    "name_str=','.join(names)\n",
    "name_str"
   ]
  },
  {
   "cell_type": "code",
   "execution_count": 19,
   "id": "a7e7a96d",
   "metadata": {},
   "outputs": [
    {
     "data": {
      "text/plain": [
       "['Kei', 'Tonny', 'Grace', 'Jenny', 'Jaeyoo']"
      ]
     },
     "execution_count": 19,
     "metadata": {},
     "output_type": "execute_result"
    }
   ],
   "source": [
    "names_split=name_str.split(',')\n",
    "names_split"
   ]
  },
  {
   "cell_type": "markdown",
   "id": "cad60c4a",
   "metadata": {},
   "source": [
    "- - id()"
   ]
  },
  {
   "cell_type": "code",
   "execution_count": 20,
   "id": "b58132c6",
   "metadata": {},
   "outputs": [
    {
     "data": {
      "text/plain": [
       "2155300454928"
      ]
     },
     "execution_count": 20,
     "metadata": {},
     "output_type": "execute_result"
    }
   ],
   "source": [
    "a=10\n",
    "id(a)"
   ]
  },
  {
   "cell_type": "markdown",
   "id": "2886fc9e",
   "metadata": {},
   "source": [
    "- - find(). 찾고자 하는 문자열의 시작위치 반환"
   ]
  },
  {
   "cell_type": "code",
   "execution_count": 21,
   "id": "880251fe",
   "metadata": {},
   "outputs": [
    {
     "data": {
      "text/plain": [
       "10"
      ]
     },
     "execution_count": 21,
     "metadata": {},
     "output_type": "execute_result"
    }
   ],
   "source": [
    "pro=\"I want to be a great programmer.\"\n",
    "pro.find('be')"
   ]
  },
  {
   "cell_type": "markdown",
   "id": "9c783665",
   "metadata": {},
   "source": [
    "- - filter()"
   ]
  },
  {
   "cell_type": "code",
   "execution_count": 22,
   "id": "69f4f1af",
   "metadata": {},
   "outputs": [
    {
     "name": "stdout",
     "output_type": "stream",
     "text": [
      "[2, 4, 6, 8, 10, 12, 14, 16, 18, 20]\n"
     ]
    }
   ],
   "source": [
    "def is_even(number):\n",
    "    return number%2==0\n",
    "\n",
    "numbers=range(1,21)\n",
    "even_list=list(filter(is_even,numbers))\n",
    "\n",
    "print(even_list)"
   ]
  },
  {
   "cell_type": "code",
   "execution_count": 23,
   "id": "f539094e",
   "metadata": {},
   "outputs": [
    {
     "data": {
      "text/plain": [
       "<filter at 0x1f5d6cf1c00>"
      ]
     },
     "execution_count": 23,
     "metadata": {},
     "output_type": "execute_result"
    }
   ],
   "source": [
    "filter(is_even, numbers)"
   ]
  },
  {
   "cell_type": "markdown",
   "id": "45066223",
   "metadata": {},
   "source": [
    "- - lambda"
   ]
  },
  {
   "cell_type": "code",
   "execution_count": 24,
   "id": "b05078b5",
   "metadata": {},
   "outputs": [
    {
     "data": {
      "text/plain": [
       "4"
      ]
     },
     "execution_count": 24,
     "metadata": {},
     "output_type": "execute_result"
    }
   ],
   "source": [
    "f=lambda x:x*2\n",
    "\n",
    "f(2)"
   ]
  },
  {
   "cell_type": "code",
   "execution_count": 25,
   "id": "c0cc8ae7",
   "metadata": {},
   "outputs": [
    {
     "data": {
      "text/plain": [
       "[2, 4, 6, 8, 10, 12, 14, 16, 18, 20]"
      ]
     },
     "execution_count": 25,
     "metadata": {},
     "output_type": "execute_result"
    }
   ],
   "source": [
    "even_list=list(filter(lambda n:n%2==0, numbers))\n",
    "even_list"
   ]
  },
  {
   "cell_type": "markdown",
   "id": "d1d0e7da",
   "metadata": {},
   "source": [
    "- map()"
   ]
  },
  {
   "cell_type": "code",
   "execution_count": 26,
   "id": "185c4181",
   "metadata": {},
   "outputs": [
    {
     "data": {
      "text/plain": [
       "[1, 4, 9, 16]"
      ]
     },
     "execution_count": 26,
     "metadata": {},
     "output_type": "execute_result"
    }
   ],
   "source": [
    "def square(number):\n",
    "    return number**2\n",
    "\n",
    "numbers=range(1,5)\n",
    "square_list=list(map(square,numbers))\n",
    "square_list"
   ]
  },
  {
   "cell_type": "code",
   "execution_count": 27,
   "id": "02d2d2a2",
   "metadata": {},
   "outputs": [
    {
     "data": {
      "text/plain": [
       "[1, 4, 9, 16]"
      ]
     },
     "execution_count": 27,
     "metadata": {},
     "output_type": "execute_result"
    }
   ],
   "source": [
    "square_list=list(map(lambda n:n**2,numbers))\n",
    "square_list"
   ]
  },
  {
   "cell_type": "markdown",
   "id": "e6a544a6",
   "metadata": {},
   "source": [
    "- pickle()"
   ]
  },
  {
   "cell_type": "markdown",
   "id": "a9404963",
   "metadata": {},
   "source": [
    "- - 객체 to 파일"
   ]
  },
  {
   "cell_type": "code",
   "execution_count": 29,
   "id": "06d177f1",
   "metadata": {},
   "outputs": [],
   "source": [
    "import pickle\n",
    "f=open('setting.txt', 'wb')\n",
    "setting=[ {'title':'python program'}, {'author:','Kei'} ]\n",
    "pickle.dump(setting,f) # 리스트 내용을 파일에 저장\n",
    "f.close() # 파일 객체 닫기"
   ]
  },
  {
   "cell_type": "markdown",
   "id": "572b05bb",
   "metadata": {},
   "source": [
    "- - 파일 to 객체"
   ]
  },
  {
   "cell_type": "code",
   "execution_count": 30,
   "id": "50e879a0",
   "metadata": {},
   "outputs": [
    {
     "data": {
      "text/plain": [
       "[{'title': 'python program'}, {'Kei', 'author:'}]"
      ]
     },
     "execution_count": 30,
     "metadata": {},
     "output_type": "execute_result"
    }
   ],
   "source": [
    "f=open('setting.txt', 'rb') # 리드 바이너리 모드\n",
    "setting=pickle.load(f)\n",
    "f.close()\n",
    "setting"
   ]
  },
  {
   "cell_type": "markdown",
   "id": "a4d9e74c",
   "metadata": {},
   "source": [
    "- time"
   ]
  },
  {
   "cell_type": "markdown",
   "id": "fdf77e60",
   "metadata": {},
   "source": [
    "- - time.localtime()"
   ]
  },
  {
   "cell_type": "code",
   "execution_count": 31,
   "id": "1ca9671c",
   "metadata": {},
   "outputs": [
    {
     "data": {
      "text/plain": [
       "time.struct_time(tm_year=2022, tm_mon=8, tm_mday=2, tm_hour=17, tm_min=14, tm_sec=34, tm_wday=1, tm_yday=214, tm_isdst=0)"
      ]
     },
     "execution_count": 31,
     "metadata": {},
     "output_type": "execute_result"
    }
   ],
   "source": [
    "import time\n",
    "\n",
    "time.localtime(time.time())"
   ]
  },
  {
   "cell_type": "markdown",
   "id": "9a393191",
   "metadata": {},
   "source": [
    "- - time.strftime()"
   ]
  },
  {
   "cell_type": "code",
   "execution_count": 32,
   "id": "71c702ad",
   "metadata": {},
   "outputs": [
    {
     "data": {
      "text/plain": [
       "'2022/08/02 17:15:31'"
      ]
     },
     "execution_count": 32,
     "metadata": {},
     "output_type": "execute_result"
    }
   ],
   "source": [
    "lt=time.localtime(time.time())\n",
    "time.strftime('%Y/%m/%d %H:%M:%S',lt)"
   ]
  },
  {
   "cell_type": "markdown",
   "id": "3c90df9b",
   "metadata": {},
   "source": [
    "- random()"
   ]
  },
  {
   "cell_type": "markdown",
   "id": "bee11ddb",
   "metadata": {},
   "source": [
    "- - random.random()"
   ]
  },
  {
   "cell_type": "code",
   "execution_count": 33,
   "id": "365f3352",
   "metadata": {},
   "outputs": [
    {
     "data": {
      "text/plain": [
       "0.3425920850892592"
      ]
     },
     "execution_count": 33,
     "metadata": {},
     "output_type": "execute_result"
    }
   ],
   "source": [
    "import random\n",
    "\n",
    "random.random() # 0~1 사이 실숫값"
   ]
  },
  {
   "cell_type": "markdown",
   "id": "18b2ed75",
   "metadata": {},
   "source": [
    "- - random.uniform()"
   ]
  },
  {
   "cell_type": "code",
   "execution_count": 34,
   "id": "7108e230",
   "metadata": {},
   "outputs": [
    {
     "data": {
      "text/plain": [
       "1.9935242219616987"
      ]
     },
     "execution_count": 34,
     "metadata": {},
     "output_type": "execute_result"
    }
   ],
   "source": [
    "random.uniform(1,2) # 두번째 인자는 생성값 범위에 포함되지 않음"
   ]
  },
  {
   "cell_type": "markdown",
   "id": "c1d00782",
   "metadata": {},
   "source": [
    "- - random.randint()"
   ]
  },
  {
   "cell_type": "code",
   "execution_count": 36,
   "id": "a843bf1b",
   "metadata": {
    "scrolled": true
   },
   "outputs": [
    {
     "data": {
      "text/plain": [
       "5"
      ]
     },
     "execution_count": 36,
     "metadata": {},
     "output_type": "execute_result"
    }
   ],
   "source": [
    "random.randint(1,5)"
   ]
  },
  {
   "cell_type": "markdown",
   "id": "42b9d709",
   "metadata": {},
   "source": [
    "---"
   ]
  },
  {
   "cell_type": "markdown",
   "id": "c1dc8181",
   "metadata": {},
   "source": [
    "# 2.2.4 클래스"
   ]
  },
  {
   "cell_type": "markdown",
   "id": "4b2a29e0",
   "metadata": {},
   "source": [
    "- 챗봇 객체 생성"
   ]
  },
  {
   "cell_type": "code",
   "execution_count": 37,
   "id": "c031fbf3",
   "metadata": {},
   "outputs": [
    {
     "name": "stdout",
     "output_type": "stream",
     "text": [
      "say hello\n",
      "My name is Kbot :D\n"
     ]
    }
   ],
   "source": [
    "class Chatbot:\n",
    "    def sayHello(self):\n",
    "        print('say hello')\n",
    "        \n",
    "    def sayMyName(self):\n",
    "        print('My name is Kbot :D')\n",
    "        \n",
    "chatbot=Chatbot()\n",
    "chatbot.sayHello()\n",
    "chatbot.sayMyName()"
   ]
  },
  {
   "cell_type": "markdown",
   "id": "5affdc9c",
   "metadata": {},
   "source": [
    "- 생성자 및 소멸자"
   ]
  },
  {
   "cell_type": "code",
   "execution_count": 1,
   "id": "68b417d6",
   "metadata": {},
   "outputs": [
    {
     "name": "stdout",
     "output_type": "stream",
     "text": [
      "call __init__()\n",
      "살아있음\n",
      "call __del__()\n"
     ]
    }
   ],
   "source": [
    "class SimpleObj:\n",
    "    def __init__(self):\n",
    "        print('call __init__()')\n",
    "    \n",
    "    def __del__(self):\n",
    "        print('call __del__()')\n",
    "        \n",
    "obj=SimpleObj()\n",
    "print('살아있음')\n",
    "del obj"
   ]
  },
  {
   "cell_type": "markdown",
   "id": "60e359bc",
   "metadata": {},
   "source": [
    "- 사칙 연산 클래스"
   ]
  },
  {
   "cell_type": "code",
   "execution_count": 2,
   "id": "743643f9",
   "metadata": {
    "scrolled": true
   },
   "outputs": [
    {
     "name": "stdout",
     "output_type": "stream",
     "text": [
      "value=100\n",
      "a=200, b=50, c=200, d=50.0\n"
     ]
    }
   ],
   "source": [
    "class Calc:\n",
    "    def __init__(self, init_value):\n",
    "        self.value=init_value\n",
    "        \n",
    "    def add(self,n):\n",
    "        return self.value+n\n",
    "    \n",
    "    def sub(self,n):\n",
    "        return self.value-n\n",
    "    \n",
    "    def mul(self,n):\n",
    "        return self.value*n\n",
    "    \n",
    "    def div(self,n):\n",
    "        return self.value/n\n",
    "    \n",
    "cal=Calc(100)\n",
    "print('value={0}'.format(cal.value))\n",
    "\n",
    "a=cal.add(100)\n",
    "b=cal.sub(50)\n",
    "c=cal.mul(2)\n",
    "d=cal.div(2)\n",
    "\n",
    "print('a={0}, b={1}, c={2}, d={3}'.format(a,b,c,d))"
   ]
  },
  {
   "cell_type": "markdown",
   "id": "4e7555ce",
   "metadata": {},
   "source": [
    "---"
   ]
  },
  {
   "cell_type": "markdown",
   "id": "661bb6c2",
   "metadata": {},
   "source": [
    "# 2.2.5 모듈\n",
    "- 자작 calc 모듈 사용"
   ]
  },
  {
   "cell_type": "code",
   "execution_count": 4,
   "id": "cec70ddc",
   "metadata": {},
   "outputs": [
    {
     "name": "stdout",
     "output_type": "stream",
     "text": [
      "add=30\n",
      "mul=20\n"
     ]
    }
   ],
   "source": [
    "import calc\n",
    "\n",
    "a=calc.add(10,20)\n",
    "print('add={}'.format(a))\n",
    "\n",
    "b=calc.mul(10,2)\n",
    "print('mul={}'.format(b))"
   ]
  },
  {
   "cell_type": "markdown",
   "id": "3377d2b9",
   "metadata": {},
   "source": [
    "- calc 모듈 사용"
   ]
  },
  {
   "cell_type": "code",
   "execution_count": 5,
   "id": "179ac574",
   "metadata": {
    "scrolled": true
   },
   "outputs": [
    {
     "name": "stdout",
     "output_type": "stream",
     "text": [
      "30\n",
      "20\n"
     ]
    }
   ],
   "source": [
    "from calc import add, mul\n",
    "\n",
    "a=add(10,20)\n",
    "print(a)\n",
    "b=mul(10,2)\n",
    "print(b)"
   ]
  },
  {
   "cell_type": "markdown",
   "id": "ec17af7d",
   "metadata": {},
   "source": [
    "---"
   ]
  },
  {
   "cell_type": "markdown",
   "id": "04a38069",
   "metadata": {},
   "source": [
    "# 2.2.6 예외 처리"
   ]
  },
  {
   "cell_type": "markdown",
   "id": "4704da57",
   "metadata": {},
   "source": [
    "- division by zero 예외 처리"
   ]
  },
  {
   "cell_type": "code",
   "execution_count": 6,
   "id": "c5b30852",
   "metadata": {},
   "outputs": [
    {
     "name": "stdout",
     "output_type": "stream",
     "text": [
      "division by zero\n"
     ]
    }
   ],
   "source": [
    "try:\n",
    "    a=10\n",
    "    b=0\n",
    "    c=a/b\n",
    "    print(c)\n",
    "except Exception as e:\n",
    "    print(e)"
   ]
  },
  {
   "cell_type": "markdown",
   "id": "45dbb4f0",
   "metadata": {},
   "source": [
    "- 여러 개의 예외 처리"
   ]
  },
  {
   "cell_type": "code",
   "execution_count": 8,
   "id": "593fc615",
   "metadata": {},
   "outputs": [
    {
     "name": "stdout",
     "output_type": "stream",
     "text": [
      "division by zero\n"
     ]
    }
   ],
   "source": [
    "try:\n",
    "    a=10\n",
    "    b=0\n",
    "    c=a/b\n",
    "except ZeroDivisionError as e:\n",
    "    print(e)\n",
    "except TypeError as e:\n",
    "    print(e)"
   ]
  },
  {
   "cell_type": "markdown",
   "id": "05310c4a",
   "metadata": {},
   "source": [
    "- 파일을 안전하게 사용하는 예"
   ]
  },
  {
   "cell_type": "code",
   "execution_count": 10,
   "id": "a9a4f98f",
   "metadata": {},
   "outputs": [],
   "source": [
    "import pickle\n",
    "\n",
    "f=open('setting.txt', 'wb') # 기존 파일이 있다면 오버라이트\n",
    "try:\n",
    "    setting=[ {'title':'python program'}, {'author':'Kei'} ]\n",
    "    pickle.dump(setting,f)\n",
    "except Exception as e:\n",
    "    print(e)\n",
    "finally:\n",
    "    f.close() # 파일 리소스 해제"
   ]
  },
  {
   "cell_type": "code",
   "execution_count": null,
   "id": "55b92cd6",
   "metadata": {},
   "outputs": [],
   "source": []
  }
 ],
 "metadata": {
  "kernelspec": {
   "display_name": "Python 3 (ipykernel)",
   "language": "python",
   "name": "python3"
  },
  "language_info": {
   "codemirror_mode": {
    "name": "ipython",
    "version": 3
   },
   "file_extension": ".py",
   "mimetype": "text/x-python",
   "name": "python",
   "nbconvert_exporter": "python",
   "pygments_lexer": "ipython3",
   "version": "3.10.5"
  }
 },
 "nbformat": 4,
 "nbformat_minor": 5
}
