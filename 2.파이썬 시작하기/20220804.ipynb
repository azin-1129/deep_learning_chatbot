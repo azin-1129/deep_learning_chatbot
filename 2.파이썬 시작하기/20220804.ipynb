{
 "cells": [
  {
   "cell_type": "markdown",
   "id": "eab31cae",
   "metadata": {},
   "source": [
    "- - 2.2.7 엑셀 read, write"
   ]
  },
  {
   "cell_type": "code",
   "execution_count": 1,
   "id": "0a903a80",
   "metadata": {},
   "outputs": [
    {
     "name": "stdout",
     "output_type": "stream",
     "text": [
      "3 6\n",
      "이름\n",
      "Kei\n"
     ]
    }
   ],
   "source": [
    "import openpyxl\n",
    "\n",
    "wb=openpyxl.load_workbook('sample.xlsx')\n",
    "sheet=wb['Sheet1']\n",
    "print(sheet.max_column, sheet.max_row)\n",
    "print(sheet.cell(row=1, column=1).value)\n",
    "print(sheet.cell(row=2, column=1).value)\n",
    "\n",
    "wb.close()"
   ]
  },
  {
   "cell_type": "code",
   "execution_count": 4,
   "id": "fb26a9a5",
   "metadata": {},
   "outputs": [
    {
     "name": "stdout",
     "output_type": "stream",
     "text": [
      "Kei\n",
      "35\n",
      "1234-1234\n",
      "----------\n",
      "Hong\n",
      "26\n",
      "4320-1420\n",
      "----------\n",
      "Kim\n",
      "41\n",
      "1234-5678\n",
      "----------\n",
      "Choi\n",
      "38\n",
      "4023-3411\n",
      "----------\n",
      "Go\n",
      "27\n",
      "1469-4023\n",
      "----------\n"
     ]
    }
   ],
   "source": [
    "wb=openpyxl.load_workbook('sample.xlsx')\n",
    "sheet=wb['Sheet1']\n",
    "\n",
    "for row in sheet.iter_rows(min_row=2):\n",
    "    for cell in row:\n",
    "        print(cell.value)\n",
    "    print('-'*10)\n",
    "    \n",
    "wb.close()"
   ]
  },
  {
   "cell_type": "code",
   "execution_count": 5,
   "id": "b30c278e",
   "metadata": {},
   "outputs": [
    {
     "name": "stdout",
     "output_type": "stream",
     "text": [
      "Kei\n",
      "35\n",
      "1234-1234\n",
      "----------\n",
      "Hong\n",
      "26\n",
      "4320-1420\n",
      "----------\n"
     ]
    }
   ],
   "source": [
    "wb=openpyxl.load_workbook('sample.xlsx')\n",
    "sheet=wb['Sheet1']\n",
    "\n",
    "cells=sheet['A2':'C3']\n",
    "\n",
    "for row in cells:\n",
    "    for cell in row:\n",
    "        print(cell.value)\n",
    "    print('-'*10)\n",
    "    \n",
    "wb.close()"
   ]
  },
  {
   "cell_type": "markdown",
   "id": "29aee1a7",
   "metadata": {},
   "source": [
    "OpenPyXL로 엑셀 파일 write"
   ]
  },
  {
   "cell_type": "code",
   "execution_count": 6,
   "id": "a128e2cb",
   "metadata": {},
   "outputs": [],
   "source": [
    "wb=openpyxl.Workbook()\n",
    "sheet=wb.active\n",
    "sheet.title='회원정보'\n",
    "header_titles=['이름','전화번호']\n",
    "\n",
    "for idx, title in enumerate(header_titles):\n",
    "    sheet.cell(row=1, column=idx+1, value=title)\n",
    "    \n",
    "members=[('ket','010-1234-1234'), ('hong', '010-4321-1234')]\n",
    "\n",
    "row_num=2 # 2행부터 데이터\n",
    "\n",
    "for r, member in enumerate(members): # 회원 정보\n",
    "    for c,v in enumerate(member): # 인덱스 (이름, 전번)\n",
    "        sheet.cell(row=row_num+r, column=c+1, value=v) # 인덱스가 0부터 시작하기 때문에 각각 +1\n",
    "        \n",
    "wb.save('members.xlsx')\n",
    "wb.close()"
   ]
  },
  {
   "cell_type": "markdown",
   "id": "1dc65114",
   "metadata": {},
   "source": [
    "---"
   ]
  },
  {
   "cell_type": "markdown",
   "id": "70fffc64",
   "metadata": {},
   "source": [
    "# 2.3 데이터 분석을 위한 필수 라이브러리"
   ]
  },
  {
   "cell_type": "markdown",
   "id": "82cecab7",
   "metadata": {},
   "source": [
    "## 2.3.1 넘파이"
   ]
  },
  {
   "cell_type": "code",
   "execution_count": 8,
   "id": "7bad5882",
   "metadata": {},
   "outputs": [
    {
     "name": "stdout",
     "output_type": "stream",
     "text": [
      "[1 2 3] <class 'numpy.ndarray'>\n"
     ]
    }
   ],
   "source": [
    "import numpy as np\n",
    "\n",
    "arr=np.array([1,2,3])\n",
    "print(arr,type(arr))"
   ]
  },
  {
   "cell_type": "code",
   "execution_count": 9,
   "id": "7573ba0c",
   "metadata": {},
   "outputs": [
    {
     "name": "stdout",
     "output_type": "stream",
     "text": [
      "[[1 2 3]\n",
      " [4 5 6]]\n"
     ]
    }
   ],
   "source": [
    "matrix=np.array([ [1,2,3], [4,5,6]])\n",
    "print(matrix)"
   ]
  },
  {
   "cell_type": "code",
   "execution_count": 10,
   "id": "9e73382a",
   "metadata": {},
   "outputs": [
    {
     "name": "stdout",
     "output_type": "stream",
     "text": [
      "[[2 3]\n",
      " [4 5]]\n"
     ]
    }
   ],
   "source": [
    "A=np.array([ [1,2], [3,4]])\n",
    "B=np.array([ [1,1], [1,1]])\n",
    "print(A+B)"
   ]
  },
  {
   "cell_type": "code",
   "execution_count": null,
   "id": "67e71a18",
   "metadata": {},
   "outputs": [],
   "source": []
  }
 ],
 "metadata": {
  "kernelspec": {
   "display_name": "Python 3 (ipykernel)",
   "language": "python",
   "name": "python3"
  },
  "language_info": {
   "codemirror_mode": {
    "name": "ipython",
    "version": 3
   },
   "file_extension": ".py",
   "mimetype": "text/x-python",
   "name": "python",
   "nbconvert_exporter": "python",
   "pygments_lexer": "ipython3",
   "version": "3.9.12"
  }
 },
 "nbformat": 4,
 "nbformat_minor": 5
}
