{
 "cells": [
  {
   "cell_type": "code",
   "execution_count": 6,
   "id": "51c71230",
   "metadata": {},
   "outputs": [
    {
     "name": "stdout",
     "output_type": "stream",
     "text": [
      "1) 말뭉치 읽기\n",
      "200000\n",
      " 1) 말뭉치 읽기 끝: 1.50477933883667\n",
      "2) 형태소에서 명사만 추출\n",
      "2) 형태소에서 명사만 추출 완료 98.0188660621643\n",
      "3) Word2Vec 모델 학습\n",
      "3) Word2Vec 학습 완료: 114.39163208007812\n",
      "4) 학습 모델 저장\n",
      "4) 학습 모델 저장 완료: 114.978830575943\n",
      "corpus_count: 200000\n",
      "corpus_total_words: 1076896\n"
     ]
    }
   ],
   "source": [
    "from gensim.models import Word2Vec\n",
    "from konlpy.tag import Komoran\n",
    "import time\n",
    "\n",
    "def read_review_data(filename):\n",
    "    with open(filename,'r',encoding='utf-8')as f:\n",
    "        data=[line.split('\\t') for line in f.read().splitlines()]\n",
    "        data=data[1:] # 헤더 제거\n",
    "    return data\n",
    "\n",
    "start=time.time()\n",
    "\n",
    "print('1) 말뭉치 읽기')\n",
    "review_data=read_review_data('ratings.txt')\n",
    "print(len(review_data))\n",
    "print(' 1) 말뭉치 읽기 끝:',time.time()-start)\n",
    "\n",
    "print('2) 형태소에서 명사만 추출')\n",
    "komoran=Komoran()\n",
    "docs=[komoran.nouns(sentence[1]) for sentence in review_data]\n",
    "print('2) 형태소에서 명사만 추출 완료',time.time()-start)\n",
    "\n",
    "print('3) Word2Vec 모델 학습')\n",
    "model=Word2Vec(sentences=docs, vector_size=200, window=4, hs=1, min_count=2, sg=1)\n",
    "print('3) Word2Vec 학습 완료:',time.time()-start)\n",
    "\n",
    "print('4) 학습 모델 저장')\n",
    "model.save('nvmc.model')\n",
    "print('4) 학습 모델 저장 완료:',time.time()-start)\n",
    "\n",
    "print('corpus_count:', model.corpus_count)\n",
    "print('corpus_total_words:',model.corpus_total_words)"
   ]
  },
  {
   "cell_type": "code",
   "execution_count": null,
   "id": "8284efac",
   "metadata": {},
   "outputs": [],
   "source": []
  }
 ],
 "metadata": {
  "kernelspec": {
   "display_name": "Python 3 (ipykernel)",
   "language": "python",
   "name": "python3"
  },
  "language_info": {
   "codemirror_mode": {
    "name": "ipython",
    "version": 3
   },
   "file_extension": ".py",
   "mimetype": "text/x-python",
   "name": "python",
   "nbconvert_exporter": "python",
   "pygments_lexer": "ipython3",
   "version": "3.9.12"
  }
 },
 "nbformat": 4,
 "nbformat_minor": 5
}
