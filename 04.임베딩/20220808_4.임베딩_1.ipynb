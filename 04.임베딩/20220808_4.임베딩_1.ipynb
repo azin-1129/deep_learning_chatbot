{
 "cells": [
  {
   "cell_type": "markdown",
   "id": "93baf592",
   "metadata": {},
   "source": [
    "## 4.2.1 원-핫 인코딩"
   ]
  },
  {
   "cell_type": "code",
   "execution_count": 1,
   "id": "87fdfa68",
   "metadata": {},
   "outputs": [
    {
     "data": {
      "text/plain": [
       "['오늘', '날씨']"
      ]
     },
     "execution_count": 1,
     "metadata": {},
     "output_type": "execute_result"
    }
   ],
   "source": [
    "from konlpy.tag import Komoran\n",
    "import numpy as np\n",
    "\n",
    "komoran=Komoran()\n",
    "\n",
    "text='오늘 날씨는 흐려요.'\n",
    "\n",
    "nouns=komoran.nouns(text)\n",
    "nouns"
   ]
  },
  {
   "cell_type": "code",
   "execution_count": 2,
   "id": "541b4cf2",
   "metadata": {},
   "outputs": [
    {
     "name": "stdout",
     "output_type": "stream",
     "text": [
      "{'오늘': 0, '날씨': 1}\n"
     ]
    }
   ],
   "source": [
    "dics={}\n",
    "\n",
    "for word in nouns:\n",
    "    if word not in dics.keys():\n",
    "        dics[word]=len(dics)\n",
    "        \n",
    "print(dics)"
   ]
  },
  {
   "cell_type": "code",
   "execution_count": 3,
   "id": "c32b36f7",
   "metadata": {},
   "outputs": [
    {
     "data": {
      "text/plain": [
       "array([[1., 0.],\n",
       "       [0., 1.]])"
      ]
     },
     "execution_count": 3,
     "metadata": {},
     "output_type": "execute_result"
    }
   ],
   "source": [
    "nb_classes=len(dics)\n",
    "targets=list(dics.values())\n",
    "one_hot_targets=np.eye(nb_classes)[targets]\n",
    "one_hot_targets"
   ]
  },
  {
   "cell_type": "markdown",
   "id": "8f148678",
   "metadata": {},
   "source": [
    "## 4.2.2 희소 표현, 분산 표현"
   ]
  },
  {
   "cell_type": "code",
   "execution_count": null,
   "id": "581ead30",
   "metadata": {},
   "outputs": [],
   "source": []
  }
 ],
 "metadata": {
  "kernelspec": {
   "display_name": "Python 3 (ipykernel)",
   "language": "python",
   "name": "python3"
  },
  "language_info": {
   "codemirror_mode": {
    "name": "ipython",
    "version": 3
   },
   "file_extension": ".py",
   "mimetype": "text/x-python",
   "name": "python",
   "nbconvert_exporter": "python",
   "pygments_lexer": "ipython3",
   "version": "3.9.12"
  }
 },
 "nbformat": 4,
 "nbformat_minor": 5
}
