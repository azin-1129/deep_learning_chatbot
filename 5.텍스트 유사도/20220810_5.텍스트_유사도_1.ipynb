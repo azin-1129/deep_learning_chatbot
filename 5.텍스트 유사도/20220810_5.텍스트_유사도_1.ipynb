{
 "cells": [
  {
   "cell_type": "markdown",
   "id": "79bb6cab",
   "metadata": {},
   "source": [
    "# 5.2 n-gram 유사도"
   ]
  },
  {
   "cell_type": "code",
   "execution_count": 4,
   "id": "fc45a397",
   "metadata": {},
   "outputs": [
    {
     "name": "stdout",
     "output_type": "stream",
     "text": [
      "보우 예시: ['빅', '대머리']\n",
      "(('빅', '대머리'), ('대머리',))\n",
      "(('유진', '대머리'), ('대머리', '탈모'), ('탈모',))\n",
      "(('유진', '머리카락'), ('머리카락',))\n",
      "0.0 0.0\n"
     ]
    }
   ],
   "source": [
    "from konlpy.tag import Komoran\n",
    "\n",
    "def word_ngram(bow, num_gram):\n",
    "    text=tuple(bow)\n",
    "    ngrams=[text[x:x+num_gram] for x in range(0,len(text))]\n",
    "    \n",
    "    return tuple(ngrams)\n",
    "\n",
    "def similarity(doc1, doc2):\n",
    "    cnt=0\n",
    "    \n",
    "    for token in doc1:\n",
    "        if token in doc2:\n",
    "            cnt+=1\n",
    "            \n",
    "    return cnt/len(doc1)\n",
    "\n",
    "sentence1='빅보는 대머리 빡빡이다.'\n",
    "sentence2='유진이는 대머리 빡빡이 탈모다.'\n",
    "sentence3='유진이는 머리카락이 없다.'\n",
    "\n",
    "komoran=Komoran()\n",
    "\n",
    "bow1=komoran.nouns(sentence1)\n",
    "bow2=komoran.nouns(sentence2)\n",
    "bow3=komoran.nouns(sentence3)\n",
    "\n",
    "print('보우 예시:',bow1)\n",
    "\n",
    "doc1=word_ngram(bow1,2)\n",
    "doc2=word_ngram(bow2,2)\n",
    "doc3=word_ngram(bow3,2)\n",
    "\n",
    "print(doc1)\n",
    "print(doc2)\n",
    "print(doc3)\n",
    "\n",
    "r1=similarity(doc1, doc2)\n",
    "r2=similarity(doc3, doc1)\n",
    "\n",
    "print(r1,r2)"
   ]
  },
  {
   "cell_type": "markdown",
   "id": "515a5fb9",
   "metadata": {},
   "source": [
    "---"
   ]
  },
  {
   "cell_type": "markdown",
   "id": "2268d9d7",
   "metadata": {},
   "source": [
    "# 5.3 코사인 유사도"
   ]
  },
  {
   "cell_type": "code",
   "execution_count": null,
   "id": "6924cadc",
   "metadata": {},
   "outputs": [],
   "source": []
  }
 ],
 "metadata": {
  "kernelspec": {
   "display_name": "Python 3 (ipykernel)",
   "language": "python",
   "name": "python3"
  },
  "language_info": {
   "codemirror_mode": {
    "name": "ipython",
    "version": 3
   },
   "file_extension": ".py",
   "mimetype": "text/x-python",
   "name": "python",
   "nbconvert_exporter": "python",
   "pygments_lexer": "ipython3",
   "version": "3.9.12"
  }
 },
 "nbformat": 4,
 "nbformat_minor": 5
}
