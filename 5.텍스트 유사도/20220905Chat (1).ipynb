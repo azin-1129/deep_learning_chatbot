{
  "nbformat": 4,
  "nbformat_minor": 0,
  "metadata": {
    "colab": {
      "provenance": [],
      "collapsed_sections": []
    },
    "kernelspec": {
      "name": "python3",
      "display_name": "Python 3"
    },
    "language_info": {
      "name": "python"
    }
  },
  "cells": [
    {
      "cell_type": "markdown",
      "source": [
        "#3.2.1 Kkma"
      ],
      "metadata": {
        "id": "LJJ3YXoLX28e"
      }
    },
    {
      "cell_type": "code",
      "source": [
        "pip install konlpy"
      ],
      "metadata": {
        "colab": {
          "base_uri": "https://localhost:8080/"
        },
        "id": "OG5iGNBaWjGY",
        "outputId": "c5feaf12-7ba4-4ca2-d0d1-202b66f97514"
      },
      "execution_count": 3,
      "outputs": [
        {
          "output_type": "stream",
          "name": "stdout",
          "text": [
            "Looking in indexes: https://pypi.org/simple, https://us-python.pkg.dev/colab-wheels/public/simple/\n",
            "Collecting konlpy\n",
            "  Downloading konlpy-0.6.0-py2.py3-none-any.whl (19.4 MB)\n",
            "\u001b[K     |████████████████████████████████| 19.4 MB 7.4 MB/s \n",
            "\u001b[?25hRequirement already satisfied: lxml>=4.1.0 in /usr/local/lib/python3.7/dist-packages (from konlpy) (4.9.1)\n",
            "Collecting JPype1>=0.7.0\n",
            "  Downloading JPype1-1.4.0-cp37-cp37m-manylinux_2_5_x86_64.manylinux1_x86_64.whl (453 kB)\n",
            "\u001b[K     |████████████████████████████████| 453 kB 57.7 MB/s \n",
            "\u001b[?25hRequirement already satisfied: numpy>=1.6 in /usr/local/lib/python3.7/dist-packages (from konlpy) (1.21.6)\n",
            "Requirement already satisfied: typing-extensions in /usr/local/lib/python3.7/dist-packages (from JPype1>=0.7.0->konlpy) (4.1.1)\n",
            "Installing collected packages: JPype1, konlpy\n",
            "Successfully installed JPype1-1.4.0 konlpy-0.6.0\n"
          ]
        }
      ]
    },
    {
      "cell_type": "code",
      "execution_count": 4,
      "metadata": {
        "id": "_PtddAXgUV1x"
      },
      "outputs": [],
      "source": [
        "from konlpy.tag import Kkma"
      ]
    },
    {
      "cell_type": "code",
      "source": [
        "kkma=Kkma()\n",
        "\n",
        "text=\"커피를 줄여야 하는데\"\n",
        "\n",
        "morphs=kkma.morphs(text) # 토크나이징\n",
        "print(morphs)"
      ],
      "metadata": {
        "colab": {
          "base_uri": "https://localhost:8080/"
        },
        "id": "z1P1DF0ZVvVA",
        "outputId": "e0f4ae2c-dd96-434d-878c-5178312083cc"
      },
      "execution_count": 5,
      "outputs": [
        {
          "output_type": "stream",
          "name": "stdout",
          "text": [
            "['커피', '를', '줄이', '어야', '하', '는데']\n"
          ]
        }
      ]
    },
    {
      "cell_type": "code",
      "source": [
        "pos=kkma.pos(text) # 토크나이징 후 품사 태깅\n",
        "pos"
      ],
      "metadata": {
        "colab": {
          "base_uri": "https://localhost:8080/"
        },
        "id": "Aa9WKiwLW1Ks",
        "outputId": "a0d135c6-65f1-4f0d-9a23-0a3b9c856a49"
      },
      "execution_count": 6,
      "outputs": [
        {
          "output_type": "execute_result",
          "data": {
            "text/plain": [
              "[('커피', 'NNG'),\n",
              " ('를', 'JKO'),\n",
              " ('줄이', 'VV'),\n",
              " ('어야', 'ECD'),\n",
              " ('하', 'VV'),\n",
              " ('는데', 'ECD')]"
            ]
          },
          "metadata": {},
          "execution_count": 6
        }
      ]
    },
    {
      "cell_type": "code",
      "source": [
        "nouns=kkma.nouns(text) # 명사 추출\n",
        "nouns"
      ],
      "metadata": {
        "colab": {
          "base_uri": "https://localhost:8080/"
        },
        "id": "bwGhhjM0W-b9",
        "outputId": "8372ba5b-8211-4997-8b9d-a9096c16ef58"
      },
      "execution_count": 7,
      "outputs": [
        {
          "output_type": "execute_result",
          "data": {
            "text/plain": [
              "['커피']"
            ]
          },
          "metadata": {},
          "execution_count": 7
        }
      ]
    },
    {
      "cell_type": "code",
      "source": [
        "sentences=\"오늘은 좀 피곤해. 집에 가야겠어..\"\n",
        "s=kkma.sentences(sentences)\n",
        "s"
      ],
      "metadata": {
        "colab": {
          "base_uri": "https://localhost:8080/"
        },
        "id": "WfP-mBm-XEGe",
        "outputId": "e1943d2c-19a6-430b-ec13-66950980d613"
      },
      "execution_count": 11,
      "outputs": [
        {
          "output_type": "execute_result",
          "data": {
            "text/plain": [
              "['오늘은 좀 피곤해. 집에 가야겠어..']"
            ]
          },
          "metadata": {},
          "execution_count": 11
        }
      ]
    },
    {
      "cell_type": "markdown",
      "source": [
        "---"
      ],
      "metadata": {
        "id": "VwLxxj62XtAm"
      }
    },
    {
      "cell_type": "markdown",
      "source": [
        "#3.2.2 Komoran"
      ],
      "metadata": {
        "id": "mATFwHMaXxc_"
      }
    },
    {
      "cell_type": "code",
      "source": [
        "|from konlpy.tag import Komoran"
      ],
      "metadata": {
        "id": "olPKs_PyXNGr"
      },
      "execution_count": 12,
      "outputs": []
    },
    {
      "cell_type": "code",
      "source": [
        "komoran=Komoran()\n",
        "\n",
        "text=\"디카페인 아메리카노는 무슨 맛이지\"\n",
        "\n",
        "morphs=komoran.morphs(text)\n",
        "morphs"
      ],
      "metadata": {
        "colab": {
          "base_uri": "https://localhost:8080/"
        },
        "id": "rFobRIctXwSQ",
        "outputId": "e62a3510-182c-4767-b1ad-2c638d352792"
      },
      "execution_count": 13,
      "outputs": [
        {
          "output_type": "execute_result",
          "data": {
            "text/plain": [
              "['디', '카페인', '아메리카노', '는', '무슨', '맛', '이', '지']"
            ]
          },
          "metadata": {},
          "execution_count": 13
        }
      ]
    },
    {
      "cell_type": "code",
      "source": [
        "pos=komoran.pos(text)\n",
        "pos"
      ],
      "metadata": {
        "colab": {
          "base_uri": "https://localhost:8080/"
        },
        "id": "Cf0kYFMEYD3t",
        "outputId": "cae39651-34f0-447c-9425-3e93b9fbf7bc"
      },
      "execution_count": 14,
      "outputs": [
        {
          "output_type": "execute_result",
          "data": {
            "text/plain": [
              "[('디', 'NNP'),\n",
              " ('카페인', 'NNP'),\n",
              " ('아메리카노', 'NNP'),\n",
              " ('는', 'JX'),\n",
              " ('무슨', 'MM'),\n",
              " ('맛', 'NNG'),\n",
              " ('이', 'VCP'),\n",
              " ('지', 'EC')]"
            ]
          },
          "metadata": {},
          "execution_count": 14
        }
      ]
    },
    {
      "cell_type": "code",
      "source": [
        "nouns=komoran.nouns(text)\n",
        "nouns"
      ],
      "metadata": {
        "colab": {
          "base_uri": "https://localhost:8080/"
        },
        "id": "4-nZ4xrBYI_F",
        "outputId": "658cbf19-4edd-4bdb-f7a6-cdc1cf808b4a"
      },
      "execution_count": 15,
      "outputs": [
        {
          "output_type": "execute_result",
          "data": {
            "text/plain": [
              "['디', '카페인', '아메리카노', '맛']"
            ]
          },
          "metadata": {},
          "execution_count": 15
        }
      ]
    },
    {
      "cell_type": "markdown",
      "source": [
        "---"
      ],
      "metadata": {
        "id": "0LqFob_vYTC0"
      }
    },
    {
      "cell_type": "markdown",
      "source": [
        "#3.2.3 Okt"
      ],
      "metadata": {
        "id": "5Baw6BiQYT6t"
      }
    },
    {
      "cell_type": "code",
      "source": [
        "from konlpy.tag import Okt"
      ],
      "metadata": {
        "id": "RUYZC5e3YMMT"
      },
      "execution_count": 16,
      "outputs": []
    },
    {
      "cell_type": "code",
      "source": [
        "okt=Okt()"
      ],
      "metadata": {
        "id": "n3YkjhNoYcBQ"
      },
      "execution_count": 17,
      "outputs": []
    },
    {
      "cell_type": "code",
      "source": [
        "text=\"어떻게 될까? 잘 모르겠음\"\n",
        "morphs=okt.morphs(text)\n",
        "morphs"
      ],
      "metadata": {
        "colab": {
          "base_uri": "https://localhost:8080/"
        },
        "id": "IJ4csa7zZiri",
        "outputId": "37196173-7b6d-48b8-9b3e-e00635ab676d"
      },
      "execution_count": 18,
      "outputs": [
        {
          "output_type": "execute_result",
          "data": {
            "text/plain": [
              "['어떻게', '될까', '?', '잘', '모르겠음']"
            ]
          },
          "metadata": {},
          "execution_count": 18
        }
      ]
    },
    {
      "cell_type": "code",
      "source": [
        "pos=okt.pos(text)\n",
        "pos"
      ],
      "metadata": {
        "colab": {
          "base_uri": "https://localhost:8080/"
        },
        "id": "eWtYRZO9ZvUq",
        "outputId": "ddb3035a-5b82-4ac7-9f8a-9baa9c12dee0"
      },
      "execution_count": 19,
      "outputs": [
        {
          "output_type": "execute_result",
          "data": {
            "text/plain": [
              "[('어떻게', 'Adjective'),\n",
              " ('될까', 'Verb'),\n",
              " ('?', 'Punctuation'),\n",
              " ('잘', 'Verb'),\n",
              " ('모르겠음', 'Verb')]"
            ]
          },
          "metadata": {},
          "execution_count": 19
        }
      ]
    },
    {
      "cell_type": "code",
      "source": [
        "nouns=okt.nouns(text)\n",
        "nouns"
      ],
      "metadata": {
        "colab": {
          "base_uri": "https://localhost:8080/"
        },
        "id": "L5nm6qYnaAmR",
        "outputId": "f5a18468-f562-4ad3-bd19-33233f75496a"
      },
      "execution_count": 20,
      "outputs": [
        {
          "output_type": "execute_result",
          "data": {
            "text/plain": [
              "[]"
            ]
          },
          "metadata": {},
          "execution_count": 20
        }
      ]
    },
    {
      "cell_type": "code",
      "source": [
        "text=\"개빡치넹..\"\n",
        "print(okt.normalize(text))\n",
        "print(okt.phrases(text))"
      ],
      "metadata": {
        "colab": {
          "base_uri": "https://localhost:8080/"
        },
        "id": "AIpBvOtNaEMk",
        "outputId": "ab0ae7f1-af9a-4361-ddbd-edf54a974f10"
      },
      "execution_count": 21,
      "outputs": [
        {
          "output_type": "stream",
          "name": "stdout",
          "text": [
            "개빡치넹..\n",
            "['개빡치넹']\n"
          ]
        }
      ]
    },
    {
      "cell_type": "code",
      "source": [
        "text=\"엔엘피가 뭐죠? 반찬인가요?\"\n",
        "pos=komoran.pos(text)\n",
        "pos"
      ],
      "metadata": {
        "colab": {
          "base_uri": "https://localhost:8080/"
        },
        "id": "QgskC7p6aNZe",
        "outputId": "f7e2d1b6-4834-4462-b4cd-a8d6be489ad4"
      },
      "execution_count": 22,
      "outputs": [
        {
          "output_type": "execute_result",
          "data": {
            "text/plain": [
              "[('엔', 'NNB'),\n",
              " ('엘', 'NNP'),\n",
              " ('피', 'NNG'),\n",
              " ('가', 'JKS'),\n",
              " ('뭐', 'NP'),\n",
              " ('죠', 'EF'),\n",
              " ('?', 'SF'),\n",
              " ('반찬', 'NNG'),\n",
              " ('이', 'VCP'),\n",
              " ('ㄴ가요', 'EF'),\n",
              " ('?', 'SF')]"
            ]
          },
          "metadata": {},
          "execution_count": 22
        }
      ]
    },
    {
      "cell_type": "code",
      "source": [
        "komoran=Komoran(userdic='./user_dic.tsv')\n",
        "pos=komoran.pos(text)\n",
        "pos"
      ],
      "metadata": {
        "colab": {
          "base_uri": "https://localhost:8080/"
        },
        "id": "-Y8CCRWJanXg",
        "outputId": "b6062969-aa13-4e2c-ec0e-bb65f66891a9"
      },
      "execution_count": 23,
      "outputs": [
        {
          "output_type": "execute_result",
          "data": {
            "text/plain": [
              "[('엔엘피', 'NNG'),\n",
              " ('가', 'JKS'),\n",
              " ('뭐', 'NP'),\n",
              " ('죠', 'EF'),\n",
              " ('?', 'SF'),\n",
              " ('반찬', 'NNG'),\n",
              " ('이', 'VCP'),\n",
              " ('ㄴ가요', 'EF'),\n",
              " ('?', 'SF')]"
            ]
          },
          "metadata": {},
          "execution_count": 23
        }
      ]
    },
    {
      "cell_type": "markdown",
      "source": [
        "---\n",
        "#4.2 단어 임베딩\n",
        "##4.2.1 원-핫 인코딩"
      ],
      "metadata": {
        "id": "sxdlOmmacz_K"
      }
    },
    {
      "cell_type": "code",
      "source": [
        "import numpy as np\n",
        "\n",
        "komoran=Komoran()\n",
        "text=\"오늘 학식은 쌀국수라는데?\"\n",
        "\n",
        "nouns=komoran.nouns(text)\n",
        "nouns"
      ],
      "metadata": {
        "colab": {
          "base_uri": "https://localhost:8080/"
        },
        "id": "KSyVWxKAbvaY",
        "outputId": "626d2410-d29c-45f8-f8b7-a07f1900d854"
      },
      "execution_count": 24,
      "outputs": [
        {
          "output_type": "execute_result",
          "data": {
            "text/plain": [
              "['오늘', '학식', '쌀국수']"
            ]
          },
          "metadata": {},
          "execution_count": 24
        }
      ]
    },
    {
      "cell_type": "code",
      "source": [
        "dics={}\n",
        "for word in nouns:\n",
        "  if word not in dics.keys():\n",
        "    dics[word]=len(dics)\n",
        "\n",
        "dics"
      ],
      "metadata": {
        "colab": {
          "base_uri": "https://localhost:8080/"
        },
        "id": "GV94UaHLdFv-",
        "outputId": "3de298ac-7da4-4c4f-bc87-925fad114c61"
      },
      "execution_count": 26,
      "outputs": [
        {
          "output_type": "execute_result",
          "data": {
            "text/plain": [
              "{'오늘': 0, '학식': 1, '쌀국수': 2}"
            ]
          },
          "metadata": {},
          "execution_count": 26
        }
      ]
    },
    {
      "cell_type": "code",
      "source": [
        "nb_classes=len(dics)\n",
        "targets=list(dics.values())\n",
        "one_hot_targets=np.eye(nb_classes)[targets]\n",
        "one_hot_targets"
      ],
      "metadata": {
        "colab": {
          "base_uri": "https://localhost:8080/"
        },
        "id": "js53u_E0dLt6",
        "outputId": "d483b9cd-dd69-4d53-8dd0-b90b0c55afb7"
      },
      "execution_count": 27,
      "outputs": [
        {
          "output_type": "execute_result",
          "data": {
            "text/plain": [
              "array([[1., 0., 0.],\n",
              "       [0., 1., 0.],\n",
              "       [0., 0., 1.]])"
            ]
          },
          "metadata": {},
          "execution_count": 27
        }
      ]
    },
    {
      "cell_type": "markdown",
      "source": [
        "---\n",
        "##4.2.2 희소 표현, 분산 표현"
      ],
      "metadata": {
        "id": "JNUZbVpLdnNN"
      }
    },
    {
      "cell_type": "code",
      "source": [
        "from gensim.models import Word2Vec\n",
        "import time\n",
        "\n",
        "def read_review_data(filename):\n",
        "  with open(filename, 'r') as f:\n",
        "    data=[line.split('\\t') for line in f.read().splitlines()]\n",
        "    data=data[1:]\n",
        "\n",
        "  return data\n",
        "\n",
        "start=time.time()\n",
        "\n",
        "print('1) 말뭉치 리드 ')\n",
        "review_data=read_review_data('./ratings.txt')\n",
        "print(len(review_data))\n",
        "print('1) 끝',time.time()-start)\n",
        "\n",
        "print('2) nouns 추출')\n",
        "komoran=Komoran()\n",
        "docs=[komoran.nouns(sentence[1]) for sentence in review_data]\n",
        "print('2) 끝',time.time()-start)\n",
        "\n",
        "print('3) Word2Vec train')\n",
        "model=Word2Vec(sentences=docs, size=200, window=4, hs=1, min_count=2, sg=1)\n",
        "print('3) 끝',time.time()-start)\n",
        "\n",
        "print('4) save')\n",
        "model.save('nvmc.model')\n",
        "print('4) saved',time.time()-start)\n",
        "\n",
        "print('corpus_count:',model.corpus_count)\n",
        "print('corpus_total_words:',model.corpus_total_words)"
      ],
      "metadata": {
        "colab": {
          "base_uri": "https://localhost:8080/"
        },
        "id": "IncGDmsrdUlq",
        "outputId": "07d2b63c-6340-4b1e-d345-dadf17480f4a"
      },
      "execution_count": 28,
      "outputs": [
        {
          "output_type": "stream",
          "name": "stdout",
          "text": [
            "1) 말뭉치 리드 \n",
            "200000\n",
            "1) 끝 2.285738468170166\n",
            "2) nouns 추출\n",
            "2) 끝 183.31281900405884\n",
            "3) Word2Vec train\n",
            "3) 끝 233.74894857406616\n",
            "4) save\n",
            "4) saved 239.72338676452637\n",
            "corpus_count: 200000\n",
            "corpus_total_words: 1076896\n"
          ]
        }
      ]
    },
    {
      "cell_type": "code",
      "source": [
        "print('사랑:',model.wv['사랑'])\n",
        "\n",
        "print('일요일=월요일\\t',model.wv.similarity(w1='일요일',w2='월요일'))\n",
        "print('안성기=배우\\t',model.wv.similarity(w1='안성기',w2='배우'))\n",
        "print('대기업=삼성\\t',model.wv.similarity(w1='대기업',w2='삼성'))\n",
        "print('일요일!=삼성\\t',model.wv.similarity(w1='일요일',w2='삼성'))\n",
        "print('히어로!=삼성\\t',model.wv.similarity(w1='히어로',w2='삼성'))\n",
        "\n",
        "print(model.wv.most_similar('안성기',topn=5))\n",
        "print(model.wv.most_similar('시리즈',topn=5))"
      ],
      "metadata": {
        "colab": {
          "base_uri": "https://localhost:8080/"
        },
        "id": "d4p1Nc-zkF1J",
        "outputId": "f78918e5-d54b-46d2-b289-dafa1f0ee741"
      },
      "execution_count": 29,
      "outputs": [
        {
          "output_type": "stream",
          "name": "stdout",
          "text": [
            "사랑: [ 1.67575255e-01  4.52093557e-02 -3.99134070e-01  2.44577229e-01\n",
            " -3.13854873e-01 -9.05287489e-02 -3.10382936e-02 -1.93286017e-01\n",
            "  1.89993367e-01 -7.09626153e-02  1.52033940e-01 -2.31335536e-01\n",
            " -5.70475236e-02  6.22065477e-02  2.22231150e-01  1.53397247e-01\n",
            "  4.79584979e-03 -1.79485515e-01  1.92654476e-01  2.19702467e-01\n",
            " -2.43351877e-01 -1.15445256e-01  1.52711853e-01 -1.59623891e-01\n",
            "  1.00487195e-01  1.58999294e-01  1.10818975e-01  7.20589533e-02\n",
            " -3.15904617e-01  1.45158902e-01  2.79480964e-01 -2.31316149e-01\n",
            " -1.07655652e-01 -1.06564842e-01  2.76942968e-01  4.35958318e-02\n",
            " -3.37973982e-01  1.30389472e-02 -3.75859708e-01 -3.97059917e-01\n",
            " -4.36505556e-01  4.51612562e-01  3.92275929e-01 -3.56177151e-01\n",
            "  8.59389678e-02  2.54139751e-01 -2.77418047e-01 -1.46490887e-01\n",
            "  1.24068065e-02  2.88521230e-01 -3.44899297e-02  4.57793567e-03\n",
            " -3.36047649e-01  1.17567391e-03 -9.01029855e-02 -3.41995396e-02\n",
            "  9.10939574e-02 -5.06901694e-03  3.81088927e-02 -3.48933965e-01\n",
            " -8.81310701e-02 -7.70655647e-02  9.79750752e-02 -7.13718757e-02\n",
            " -1.04327001e-01 -2.62987763e-01 -2.43596956e-01  2.70231336e-01\n",
            " -1.76697984e-01 -7.07261860e-02 -2.85474211e-02  4.27787989e-01\n",
            "  3.84215623e-01 -3.07640851e-01 -3.18866700e-01  1.33183777e-01\n",
            " -6.33696690e-02 -9.24688727e-02 -9.09762681e-02 -5.16613424e-01\n",
            " -5.30619733e-02  1.61588177e-01 -1.71033233e-01 -1.81465764e-02\n",
            " -2.96033710e-01 -1.98119134e-02 -4.85173017e-01 -3.98211688e-01\n",
            "  1.33519590e-01 -1.80731714e-01 -1.90752186e-02  6.29637018e-02\n",
            " -6.47827536e-02  3.06154311e-01  1.00121990e-01  1.91697583e-01\n",
            "  1.15762398e-01 -3.44533101e-02  7.49872178e-02 -4.40526009e-01\n",
            "  1.98321700e-01  3.55639964e-01 -1.52610913e-01  3.99472797e-03\n",
            "  1.15414590e-01 -1.22587040e-01  6.33739457e-02 -1.47956744e-01\n",
            "  3.14016230e-02 -1.07170261e-01  3.79005522e-01 -5.02254739e-02\n",
            "  1.94793232e-02 -1.02869548e-01  1.15180247e-01 -6.77429885e-02\n",
            "  4.55692053e-01 -1.43776938e-01 -1.11367166e-01 -8.27629492e-02\n",
            "  1.94167838e-01 -1.20809004e-02  1.63814068e-01  1.97223257e-02\n",
            "  1.92941889e-01 -4.01091307e-01  9.00234208e-02 -7.32737184e-02\n",
            "  1.74019501e-01  1.55158758e-01 -6.16239905e-02 -4.08162951e-01\n",
            " -1.38504624e-01 -7.95190334e-02 -3.39550048e-01  2.09192112e-01\n",
            " -4.04002480e-02 -4.16022480e-01  1.85147792e-01  7.84443170e-02\n",
            "  1.39313638e-01  5.19325919e-02 -5.39666414e-03  2.11087838e-01\n",
            "  4.31800820e-02  3.18719089e-01  2.09464170e-02 -3.07723247e-02\n",
            " -1.37490466e-01 -3.06324631e-01  2.88565531e-02  7.48006031e-02\n",
            " -8.23539272e-02  1.15827180e-01  8.40874389e-02  2.83525628e-03\n",
            " -5.66204870e-03  2.98015159e-02 -1.41129687e-01  1.92969795e-02\n",
            " -7.64667913e-02  1.24413878e-01 -7.77133703e-02 -2.54420936e-01\n",
            "  5.15606366e-02 -1.51554868e-01  3.46741267e-02 -3.09130579e-01\n",
            " -2.90389299e-01  1.97584480e-01 -2.55056053e-01 -6.52461872e-02\n",
            " -2.48514261e-04 -1.97528303e-02 -2.20144913e-01 -3.32483910e-02\n",
            "  1.25040650e-01  3.71419489e-01  1.55619949e-01  2.33787060e-01\n",
            "  9.36527774e-02 -4.15128693e-02 -1.14504009e-01 -2.23097838e-02\n",
            " -5.49491704e-01  2.67421633e-01  2.85698354e-01 -3.57546993e-02\n",
            "  5.49309887e-02 -4.02009822e-02  2.61981040e-01 -5.54897301e-02\n",
            "  7.60056823e-02 -5.63142657e-01 -1.59110367e-01  1.96383357e-01\n",
            " -1.19513609e-01  2.62268066e-01  1.79169461e-01 -2.90374935e-01]\n",
            "일요일=월요일\t 0.69409436\n",
            "안성기=배우\t 0.5668071\n",
            "대기업=삼성\t 0.5309693\n",
            "일요일!=삼성\t 0.29097745\n",
            "히어로!=삼성\t 0.20262468\n",
            "[('장미희', 0.7181783318519592), ('씨야', 0.7045760750770569), ('한석규', 0.6995380520820618), ('정려원', 0.696639895439148), ('고준희', 0.6835058927536011)]\n",
            "[('잭 라이언', 0.6481615304946899), ('캐리비안의 해적', 0.6474930644035339), ('엑스맨', 0.6468961238861084), ('더 울버린', 0.6443488597869873), ('X맨', 0.6363258957862854)]\n"
          ]
        }
      ]
    },
    {
      "cell_type": "markdown",
      "source": [
        "---\n",
        "#5. 텍스트 유사도\n",
        "##5.1 텍스트 유사도 개요\n",
        "##5.2 n-gram 유사도"
      ],
      "metadata": {
        "id": "AFdMHiZLnl9Y"
      }
    },
    {
      "cell_type": "code",
      "source": [
        "def word_ngram(bow, num_gram):\n",
        "  text=tuple(bow)\n",
        "  ngrams=[text[x:x+num_gram] for x in range(0, len(text))]\n",
        "  return tuple(ngrams)\n",
        "\n",
        "def similarity(doc1, doc2):\n",
        "  cnt=0\n",
        "\n",
        "  for token in doc1:\n",
        "    if token in doc2:\n",
        "      cnt=cnt+1\n",
        "\n",
        "  return cnt/len(doc1)\n",
        "\n",
        "sentence1='6월에 뉴턴은 선생님의 제안으로 트리니티에 입학했다.'\n",
        "sentence2='6월에 뉴턴은 선생님의 제안으로 대학교에 입학했다.'\n",
        "sentence3='나는 맛있는 밥을 뉴턴 선생님과 함께 먹었다.'\n",
        "\n",
        "komoran=Komoran()\n",
        "bow1=komoran.nouns(sentence1)\n",
        "bow2=komoran.nouns(sentence2)\n",
        "bow3=komoran.nouns(sentence3)\n",
        "\n",
        "doc1=word_ngram(bow1,2)\n",
        "doc2=word_ngram(bow2,2)\n",
        "doc3=word_ngram(bow3,2)\n",
        "\n",
        "print(doc1)\n",
        "print(doc2)\n",
        "print(doc3)\n",
        "\n",
        "r1=similarity(doc1,doc2)\n",
        "r2=similarity(doc3,doc1)\n",
        "\n",
        "print(r1)\n",
        "print(r2)"
      ],
      "metadata": {
        "colab": {
          "base_uri": "https://localhost:8080/"
        },
        "id": "yxFcpPexnU7C",
        "outputId": "db7c88b1-d4e3-45d1-9296-e11a340eaec6"
      },
      "execution_count": 31,
      "outputs": [
        {
          "output_type": "stream",
          "name": "stdout",
          "text": [
            "(('6월', '뉴턴'), ('뉴턴', '선생님'), ('선생님', '제안'), ('제안', '트리니티'), ('트리니티', '입학'), ('입학',))\n",
            "(('6월', '뉴턴'), ('뉴턴', '선생님'), ('선생님', '제안'), ('제안', '대학교'), ('대학교', '입학'), ('입학',))\n",
            "(('밥', '뉴턴'), ('뉴턴', '선생'), ('선생', '님과 함께'), ('님과 함께',))\n",
            "0.6666666666666666\n",
            "0.0\n"
          ]
        }
      ]
    },
    {
      "cell_type": "markdown",
      "source": [
        "---\n",
        "##5.3 코사인 유사도"
      ],
      "metadata": {
        "id": "NDHy4uZ5rUAD"
      }
    },
    {
      "cell_type": "code",
      "source": [
        "from numpy import dot\n",
        "from numpy.linalg import norm\n",
        "\n",
        "def cos_sim(vec1, vec2):\n",
        "  return dot(vec1, vec2)/(norm(vec1)*norm(vec2))\n",
        "\n",
        "def make_term_doc_mat(sentence_bow, word_dics): # 문장별 사전 내 단어 보유 현황 리스트\n",
        "  freq_mat={}\n",
        "\n",
        "  for word in word_dics:\n",
        "    freq_mat[word]=0\n",
        "\n",
        "  for word in word_dics:\n",
        "    if word in sentence_bow:\n",
        "      freq_mat[word]+=1\n",
        "\n",
        "  return freq_mat\n",
        "\n",
        "def make_vector(tdm):\n",
        "  vec=[]\n",
        "  for key in tdm: # 딕셔너리 키 값이 반환됨.\n",
        "    vec.append(tdm[key])\n",
        "\n",
        "  return vec\n",
        "\n",
        "sentence1='6월에 뉴턴은 선생님의 제안으로 트리니티에 입학했다.'\n",
        "sentence2='6월에 뉴턴은 선생님의 제안으로 대학교에 입학했다.'\n",
        "sentence3='나는 맛있는 밥을 뉴턴 선생님과 함께 먹었다.'\n",
        "\n",
        "bow1=komoran.nouns(sentence1)\n",
        "bow2=komoran.nouns(sentence2)\n",
        "bow3=komoran.nouns(sentence3)\n",
        "\n",
        "bow=bow1+bow2+bow3\n",
        "\n",
        "word_dics=[]\n",
        "\n",
        "for token in bow:\n",
        "  if token not in word_dics:\n",
        "    word_dics.append(token)\n",
        "\n",
        "freq_list1=make_term_doc_mat(bow1, word_dics)\n",
        "freq_list2=make_term_doc_mat(bow2,word_dics)\n",
        "freq_list3=make_term_doc_mat(bow3, word_dics)\n",
        "print(freq_list1)\n",
        "print(freq_list2)\n",
        "print(freq_list3)\n",
        "\n",
        "doc1=np.array(make_vector(freq_list1))\n",
        "doc2=np.array(make_vector(freq_list2))\n",
        "doc3=np.array(make_vector(freq_list3))\n",
        "\n",
        "print('doc:',doc1)\n",
        "r1=cos_sim(doc1,doc2)\n",
        "r2=cos_sim(doc3,doc1)\n",
        "print(r1)\n",
        "print(r2)"
      ],
      "metadata": {
        "colab": {
          "base_uri": "https://localhost:8080/"
        },
        "id": "UzdwbuHXqzUB",
        "outputId": "5667b18a-f34f-45aa-d456-a10b8cf5088f"
      },
      "execution_count": 35,
      "outputs": [
        {
          "output_type": "stream",
          "name": "stdout",
          "text": [
            "{'6월': 1, '뉴턴': 1, '선생님': 1, '제안': 1, '트리니티': 1, '입학': 1, '대학교': 0, '밥': 0, '선생': 0, '님과 함께': 0}\n",
            "{'6월': 1, '뉴턴': 1, '선생님': 1, '제안': 1, '트리니티': 0, '입학': 1, '대학교': 1, '밥': 0, '선생': 0, '님과 함께': 0}\n",
            "{'6월': 0, '뉴턴': 1, '선생님': 0, '제안': 0, '트리니티': 0, '입학': 0, '대학교': 0, '밥': 1, '선생': 1, '님과 함께': 1}\n",
            "doc: [1 1 1 1 1 1 0 0 0 0]\n",
            "0.8333333333333335\n",
            "0.20412414523193154\n"
          ]
        }
      ]
    },
    {
      "cell_type": "code",
      "source": [],
      "metadata": {
        "id": "4C5kV8AduQTR"
      },
      "execution_count": null,
      "outputs": []
    }
  ]
}