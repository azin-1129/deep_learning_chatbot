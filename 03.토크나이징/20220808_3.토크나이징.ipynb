{
 "cells": [
  {
   "cell_type": "markdown",
   "id": "37f13629",
   "metadata": {},
   "source": [
    "## 2.3.2 판다스"
   ]
  },
  {
   "cell_type": "markdown",
   "id": "0d74d248",
   "metadata": {},
   "source": [
    "### Series"
   ]
  },
  {
   "cell_type": "code",
   "execution_count": 1,
   "id": "323682c9",
   "metadata": {},
   "outputs": [
    {
     "name": "stdout",
     "output_type": "stream",
     "text": [
      "0    100\n",
      "1    200\n",
      "2    300\n",
      "dtype: int64\n"
     ]
    }
   ],
   "source": [
    "import pandas as pd\n",
    "\n",
    "numbers=pd.Series([100,200,300])\n",
    "print(numbers)"
   ]
  },
  {
   "cell_type": "code",
   "execution_count": 2,
   "id": "e4bbdec1",
   "metadata": {},
   "outputs": [
    {
     "data": {
      "text/plain": [
       "국어    90\n",
       "수학    80\n",
       "영어    99\n",
       "dtype: int64"
      ]
     },
     "execution_count": 2,
     "metadata": {},
     "output_type": "execute_result"
    }
   ],
   "source": [
    "scores=pd.Series([90,80,99], index=['국어','수학','영어'])\n",
    "scores"
   ]
  },
  {
   "cell_type": "code",
   "execution_count": 3,
   "id": "636e60b2",
   "metadata": {},
   "outputs": [
    {
     "name": "stdout",
     "output_type": "stream",
     "text": [
      "Index(['국어', '수학', '영어'], dtype='object')\n"
     ]
    }
   ],
   "source": [
    "print(scores.index)"
   ]
  },
  {
   "cell_type": "code",
   "execution_count": 4,
   "id": "d9e3133f",
   "metadata": {},
   "outputs": [
    {
     "name": "stdout",
     "output_type": "stream",
     "text": [
      "[90 80 99]\n"
     ]
    }
   ],
   "source": [
    "print(scores.values)"
   ]
  },
  {
   "cell_type": "code",
   "execution_count": 5,
   "id": "aa096b71",
   "metadata": {},
   "outputs": [
    {
     "name": "stdout",
     "output_type": "stream",
     "text": [
      "수학 80\n"
     ]
    }
   ],
   "source": [
    "print(scores.index[1], scores.values[1])"
   ]
  },
  {
   "cell_type": "markdown",
   "id": "48fd5f0d",
   "metadata": {},
   "source": [
    "### DataFrame"
   ]
  },
  {
   "cell_type": "code",
   "execution_count": 8,
   "id": "1163215e",
   "metadata": {},
   "outputs": [
    {
     "data": {
      "text/html": [
       "<div>\n",
       "<style scoped>\n",
       "    .dataframe tbody tr th:only-of-type {\n",
       "        vertical-align: middle;\n",
       "    }\n",
       "\n",
       "    .dataframe tbody tr th {\n",
       "        vertical-align: top;\n",
       "    }\n",
       "\n",
       "    .dataframe thead th {\n",
       "        text-align: right;\n",
       "    }\n",
       "</style>\n",
       "<table border=\"1\" class=\"dataframe\">\n",
       "  <thead>\n",
       "    <tr style=\"text-align: right;\">\n",
       "      <th></th>\n",
       "      <th>Spring</th>\n",
       "      <th>Summer</th>\n",
       "      <th>Fall</th>\n",
       "      <th>Winter</th>\n",
       "    </tr>\n",
       "  </thead>\n",
       "  <tbody>\n",
       "    <tr>\n",
       "      <th>Seoul</th>\n",
       "      <td>3.3</td>\n",
       "      <td>34.5</td>\n",
       "      <td>12.2</td>\n",
       "      <td>-10</td>\n",
       "    </tr>\n",
       "    <tr>\n",
       "      <th>Pusan</th>\n",
       "      <td>7.1</td>\n",
       "      <td>32.1</td>\n",
       "      <td>10.7</td>\n",
       "      <td>2</td>\n",
       "    </tr>\n",
       "  </tbody>\n",
       "</table>\n",
       "</div>"
      ],
      "text/plain": [
       "       Spring  Summer  Fall  Winter\n",
       "Seoul     3.3    34.5  12.2     -10\n",
       "Pusan     7.1    32.1  10.7       2"
      ]
     },
     "execution_count": 8,
     "metadata": {},
     "output_type": "execute_result"
    }
   ],
   "source": [
    "temperatures=[ [3.3, 34.5, 12.2, -10], [7.1, 32.1, 10.7, 2]]\n",
    "seasons=['Spring', 'Summer', 'Fall', 'Winter']\n",
    "regions=['Seoul','Pusan']\n",
    "\n",
    "data=pd.DataFrame(temperatures, index=regions, columns=seasons)\n",
    "data"
   ]
  },
  {
   "cell_type": "code",
   "execution_count": 9,
   "id": "100aa0d4",
   "metadata": {},
   "outputs": [
    {
     "name": "stdout",
     "output_type": "stream",
     "text": [
      "Index(['Seoul', 'Pusan'], dtype='object')\n"
     ]
    }
   ],
   "source": [
    "print(data.index)"
   ]
  },
  {
   "cell_type": "code",
   "execution_count": 10,
   "id": "72350141",
   "metadata": {},
   "outputs": [
    {
     "name": "stdout",
     "output_type": "stream",
     "text": [
      "Index(['Spring', 'Summer', 'Fall', 'Winter'], dtype='object')\n"
     ]
    }
   ],
   "source": [
    "print(data.columns)"
   ]
  },
  {
   "cell_type": "code",
   "execution_count": 11,
   "id": "dda293e6",
   "metadata": {},
   "outputs": [
    {
     "name": "stdout",
     "output_type": "stream",
     "text": [
      "[[  3.3  34.5  12.2 -10. ]\n",
      " [  7.1  32.1  10.7   2. ]]\n"
     ]
    }
   ],
   "source": [
    "print(data.values)"
   ]
  },
  {
   "cell_type": "code",
   "execution_count": 12,
   "id": "c44a8cee",
   "metadata": {},
   "outputs": [
    {
     "name": "stdout",
     "output_type": "stream",
     "text": [
      "3.3\n"
     ]
    }
   ],
   "source": [
    "print(data['Spring']['Seoul'])"
   ]
  },
  {
   "cell_type": "code",
   "execution_count": 14,
   "id": "3e263ad2",
   "metadata": {},
   "outputs": [
    {
     "data": {
      "text/html": [
       "<div>\n",
       "<style scoped>\n",
       "    .dataframe tbody tr th:only-of-type {\n",
       "        vertical-align: middle;\n",
       "    }\n",
       "\n",
       "    .dataframe tbody tr th {\n",
       "        vertical-align: top;\n",
       "    }\n",
       "\n",
       "    .dataframe thead th {\n",
       "        text-align: right;\n",
       "    }\n",
       "</style>\n",
       "<table border=\"1\" class=\"dataframe\">\n",
       "  <thead>\n",
       "    <tr style=\"text-align: right;\">\n",
       "      <th></th>\n",
       "      <th>Spring</th>\n",
       "      <th>Summer</th>\n",
       "      <th>Fall</th>\n",
       "      <th>Winter</th>\n",
       "    </tr>\n",
       "  </thead>\n",
       "  <tbody>\n",
       "    <tr>\n",
       "      <th>Seoul</th>\n",
       "      <td>3.3</td>\n",
       "      <td>34.5</td>\n",
       "      <td>12.2</td>\n",
       "      <td>-10</td>\n",
       "    </tr>\n",
       "    <tr>\n",
       "      <th>Pusan</th>\n",
       "      <td>7.1</td>\n",
       "      <td>32.1</td>\n",
       "      <td>10.7</td>\n",
       "      <td>2</td>\n",
       "    </tr>\n",
       "  </tbody>\n",
       "</table>\n",
       "</div>"
      ],
      "text/plain": [
       "       Spring  Summer  Fall  Winter\n",
       "Seoul     3.3    34.5  12.2     -10\n",
       "Pusan     7.1    32.1  10.7       2"
      ]
     },
     "execution_count": 14,
     "metadata": {},
     "output_type": "execute_result"
    }
   ],
   "source": [
    "data.head(2)"
   ]
  },
  {
   "cell_type": "code",
   "execution_count": 15,
   "id": "fbd367f7",
   "metadata": {},
   "outputs": [
    {
     "data": {
      "text/html": [
       "<div>\n",
       "<style scoped>\n",
       "    .dataframe tbody tr th:only-of-type {\n",
       "        vertical-align: middle;\n",
       "    }\n",
       "\n",
       "    .dataframe tbody tr th {\n",
       "        vertical-align: top;\n",
       "    }\n",
       "\n",
       "    .dataframe thead th {\n",
       "        text-align: right;\n",
       "    }\n",
       "</style>\n",
       "<table border=\"1\" class=\"dataframe\">\n",
       "  <thead>\n",
       "    <tr style=\"text-align: right;\">\n",
       "      <th></th>\n",
       "      <th>Spring</th>\n",
       "      <th>Summer</th>\n",
       "      <th>Fall</th>\n",
       "      <th>Winter</th>\n",
       "    </tr>\n",
       "  </thead>\n",
       "  <tbody>\n",
       "    <tr>\n",
       "      <th>Pusan</th>\n",
       "      <td>7.1</td>\n",
       "      <td>32.1</td>\n",
       "      <td>10.7</td>\n",
       "      <td>2</td>\n",
       "    </tr>\n",
       "  </tbody>\n",
       "</table>\n",
       "</div>"
      ],
      "text/plain": [
       "       Spring  Summer  Fall  Winter\n",
       "Pusan     7.1    32.1  10.7       2"
      ]
     },
     "execution_count": 15,
     "metadata": {},
     "output_type": "execute_result"
    }
   ],
   "source": [
    "data.tail(1)"
   ]
  },
  {
   "cell_type": "code",
   "execution_count": 16,
   "id": "b557ffa3",
   "metadata": {},
   "outputs": [
    {
     "data": {
      "text/html": [
       "<div>\n",
       "<style scoped>\n",
       "    .dataframe tbody tr th:only-of-type {\n",
       "        vertical-align: middle;\n",
       "    }\n",
       "\n",
       "    .dataframe tbody tr th {\n",
       "        vertical-align: top;\n",
       "    }\n",
       "\n",
       "    .dataframe thead th {\n",
       "        text-align: right;\n",
       "    }\n",
       "</style>\n",
       "<table border=\"1\" class=\"dataframe\">\n",
       "  <thead>\n",
       "    <tr style=\"text-align: right;\">\n",
       "      <th></th>\n",
       "      <th>이름</th>\n",
       "      <th>나이</th>\n",
       "      <th>전화번호</th>\n",
       "    </tr>\n",
       "  </thead>\n",
       "  <tbody>\n",
       "    <tr>\n",
       "      <th>0</th>\n",
       "      <td>Kei</td>\n",
       "      <td>35</td>\n",
       "      <td>1234-1234</td>\n",
       "    </tr>\n",
       "    <tr>\n",
       "      <th>1</th>\n",
       "      <td>Hong</td>\n",
       "      <td>26</td>\n",
       "      <td>4320-1420</td>\n",
       "    </tr>\n",
       "    <tr>\n",
       "      <th>2</th>\n",
       "      <td>Kim</td>\n",
       "      <td>41</td>\n",
       "      <td>1234-5678</td>\n",
       "    </tr>\n",
       "    <tr>\n",
       "      <th>3</th>\n",
       "      <td>Choi</td>\n",
       "      <td>38</td>\n",
       "      <td>4023-3411</td>\n",
       "    </tr>\n",
       "    <tr>\n",
       "      <th>4</th>\n",
       "      <td>Go</td>\n",
       "      <td>27</td>\n",
       "      <td>1469-4023</td>\n",
       "    </tr>\n",
       "  </tbody>\n",
       "</table>\n",
       "</div>"
      ],
      "text/plain": [
       "     이름  나이       전화번호\n",
       "0   Kei  35  1234-1234\n",
       "1  Hong  26  4320-1420\n",
       "2   Kim  41  1234-5678\n",
       "3  Choi  38  4023-3411\n",
       "4    Go  27  1469-4023"
      ]
     },
     "execution_count": 16,
     "metadata": {},
     "output_type": "execute_result"
    }
   ],
   "source": [
    "user_list=pd.read_excel('sample.xlsx', sheet_name='Sheet1')\n",
    "user_list"
   ]
  },
  {
   "cell_type": "markdown",
   "id": "2b9da5e3",
   "metadata": {},
   "source": [
    "## 2.3.3 맷플롯립"
   ]
  },
  {
   "cell_type": "code",
   "execution_count": 17,
   "id": "97d3bd1c",
   "metadata": {},
   "outputs": [
    {
     "name": "stdout",
     "output_type": "stream",
     "text": [
      "[0, 1, 2, 3, 4, 5, 6, 7, 8, 9, 10]\n",
      "[0, 1, 2, 3, 4, 5, 6, 7, 8, 9, 10]\n"
     ]
    }
   ],
   "source": [
    "import matplotlib.pyplot as plt\n",
    "\n",
    "x=[a for a in range(0,11)]\n",
    "y=list(range(0,11))\n",
    "\n",
    "print(x)\n",
    "print(y)"
   ]
  },
  {
   "cell_type": "code",
   "execution_count": 18,
   "id": "f5826602",
   "metadata": {},
   "outputs": [
    {
     "data": {
      "image/png": "[encoded data removed]",
      "text/plain": [
       "<Figure size 432x288 with 1 Axes>"
      ]
     },
     "metadata": {
      "needs_background": "light"
     },
     "output_type": "display_data"
    }
   ],
   "source": [
    "plt.plot(x,y)\n",
    "plt.show()"
   ]
  },
  {
   "cell_type": "code",
   "execution_count": 20,
   "id": "3c431954",
   "metadata": {},
   "outputs": [
    {
     "name": "stdout",
     "output_type": "stream",
     "text": [
      "[-10, -9, -8, -7, -6, -5, -4, -3, -2, -1, 0, 1, 2, 3, 4, 5, 6, 7, 8, 9, 10]\n",
      "[100, 81, 64, 49, 36, 25, 16, 9, 4, 1, 0, 1, 4, 9, 16, 25, 36, 49, 64, 81, 100]\n"
     ]
    },
    {
     "data": {
      "image/png": "[encoded data removed]",
      "text/plain": [
       "<Figure size 432x288 with 1 Axes>"
      ]
     },
     "metadata": {
      "needs_background": "light"
     },
     "output_type": "display_data"
    }
   ],
   "source": [
    "f=lambda x:x**2\n",
    "\n",
    "x=[x for x in range(-10,11)]\n",
    "y=[f(y) for y in range(-10,11)]\n",
    "\n",
    "print(x)\n",
    "print(y)\n",
    "\n",
    "plt.plot(x,y)\n",
    "plt.show()"
   ]
  },
  {
   "cell_type": "code",
   "execution_count": 26,
   "id": "f1f08f98",
   "metadata": {},
   "outputs": [
    {
     "data": {
      "image/png": "[encoded data removed]",
      "text/plain": [
       "<Figure size 432x288 with 1 Axes>"
      ]
     },
     "metadata": {
      "needs_background": "light"
     },
     "output_type": "display_data"
    }
   ],
   "source": [
    "x=list(range(4))\n",
    "temperatures=[3.3, 34.5, 14.2, -10]\n",
    "plt.title('Bar Chart')\n",
    "plt.bar(x, temperatures)\n",
    "plt.xticks(x, seasons)\n",
    "plt.yticks(sorted(temperatures))\n",
    "plt.xlabel('season')\n",
    "plt.ylabel('temperature')\n",
    "plt.show()"
   ]
  },
  {
   "cell_type": "markdown",
   "id": "536f34ea",
   "metadata": {},
   "source": [
    "---"
   ]
  },
  {
   "cell_type": "markdown",
   "id": "9426501a",
   "metadata": {},
   "source": [
    "# 3. 토크나이징\n",
    "## 3.2.1 Kkma"
   ]
  },
  {
   "cell_type": "code",
   "execution_count": 2,
   "id": "1550fc18",
   "metadata": {},
   "outputs": [],
   "source": [
    "from konlpy.tag import Kkma"
   ]
  },
  {
   "cell_type": "code",
   "execution_count": 3,
   "id": "02874dfd",
   "metadata": {},
   "outputs": [
    {
     "data": {
      "text/plain": [
       "['아버지', '가', '방', '에', '들어가', 'ㅂ니다', '.']"
      ]
     },
     "execution_count": 3,
     "metadata": {},
     "output_type": "execute_result"
    }
   ],
   "source": [
    "kkma=Kkma()\n",
    "\n",
    "text=\"아버지가 방에 들어갑니다.\"\n",
    "morphs=kkma.morphs(text)\n",
    "morphs"
   ]
  },
  {
   "cell_type": "code",
   "execution_count": 5,
   "id": "c3a390cb",
   "metadata": {},
   "outputs": [
    {
     "data": {
      "text/plain": [
       "[('아버지', 'NNG'),\n",
       " ('가', 'JKS'),\n",
       " ('방', 'NNG'),\n",
       " ('에', 'JKM'),\n",
       " ('들어가', 'VV'),\n",
       " ('ㅂ니다', 'EFN'),\n",
       " ('.', 'SF')]"
      ]
     },
     "execution_count": 5,
     "metadata": {},
     "output_type": "execute_result"
    }
   ],
   "source": [
    "pos=kkma.pos(text)\n",
    "pos"
   ]
  },
  {
   "cell_type": "code",
   "execution_count": 6,
   "id": "ba3390ed",
   "metadata": {},
   "outputs": [
    {
     "data": {
      "text/plain": [
       "['아버지', '방']"
      ]
     },
     "execution_count": 6,
     "metadata": {},
     "output_type": "execute_result"
    }
   ],
   "source": [
    "nouns=kkma.nouns(text)\n",
    "nouns"
   ]
  },
  {
   "cell_type": "code",
   "execution_count": 7,
   "id": "531f7f99",
   "metadata": {},
   "outputs": [
    {
     "data": {
      "text/plain": [
       "['오늘 날씨는 어 때요?', '내일은 덥다 던데.']"
      ]
     },
     "execution_count": 7,
     "metadata": {},
     "output_type": "execute_result"
    }
   ],
   "source": [
    "sentences='오늘 날씨는 어때요? 내일은 덥다던데.'\n",
    "s=kkma.sentences(sentences)\n",
    "s"
   ]
  },
  {
   "cell_type": "markdown",
   "id": "d1ddbd63",
   "metadata": {},
   "source": [
    "## 3.2.2 Komoran"
   ]
  },
  {
   "cell_type": "code",
   "execution_count": 8,
   "id": "4d0df006",
   "metadata": {},
   "outputs": [],
   "source": [
    "from konlpy.tag import Komoran"
   ]
  },
  {
   "cell_type": "code",
   "execution_count": 9,
   "id": "60486172",
   "metadata": {},
   "outputs": [
    {
     "data": {
      "text/plain": [
       "['아버지', '가', '방', '에', '들어가', 'ㅂ니다', '.']"
      ]
     },
     "execution_count": 9,
     "metadata": {},
     "output_type": "execute_result"
    }
   ],
   "source": [
    "komoran=Komoran()\n",
    "\n",
    "morphs=komoran.morphs(text)\n",
    "morphs"
   ]
  },
  {
   "cell_type": "code",
   "execution_count": 10,
   "id": "f4e136e4",
   "metadata": {},
   "outputs": [
    {
     "data": {
      "text/plain": [
       "[('아버지', 'NNG'),\n",
       " ('가', 'JKS'),\n",
       " ('방', 'NNG'),\n",
       " ('에', 'JKB'),\n",
       " ('들어가', 'VV'),\n",
       " ('ㅂ니다', 'EF'),\n",
       " ('.', 'SF')]"
      ]
     },
     "execution_count": 10,
     "metadata": {},
     "output_type": "execute_result"
    }
   ],
   "source": [
    "pos=komoran.pos(text)\n",
    "pos"
   ]
  },
  {
   "cell_type": "code",
   "execution_count": 11,
   "id": "8e1ea1ab",
   "metadata": {},
   "outputs": [
    {
     "data": {
      "text/plain": [
       "['아버지', '방']"
      ]
     },
     "execution_count": 11,
     "metadata": {},
     "output_type": "execute_result"
    }
   ],
   "source": [
    "nouns=komoran.nouns(text)\n",
    "nouns"
   ]
  },
  {
   "cell_type": "markdown",
   "id": "1e73f2b2",
   "metadata": {},
   "source": [
    "## 3.2.3 Okt"
   ]
  },
  {
   "cell_type": "code",
   "execution_count": 12,
   "id": "e36a937f",
   "metadata": {},
   "outputs": [],
   "source": [
    "from konlpy.tag import Okt"
   ]
  },
  {
   "cell_type": "code",
   "execution_count": 13,
   "id": "26788861",
   "metadata": {},
   "outputs": [
    {
     "data": {
      "text/plain": [
       "['아버지', '가', '방', '에', '들어갑니다', '.']"
      ]
     },
     "execution_count": 13,
     "metadata": {},
     "output_type": "execute_result"
    }
   ],
   "source": [
    "okt=Okt()\n",
    "\n",
    "morphs=okt.morphs(text)\n",
    "morphs"
   ]
  },
  {
   "cell_type": "code",
   "execution_count": 14,
   "id": "f97f68f1",
   "metadata": {},
   "outputs": [
    {
     "data": {
      "text/plain": [
       "[('아버지', 'Noun'),\n",
       " ('가', 'Josa'),\n",
       " ('방', 'Noun'),\n",
       " ('에', 'Josa'),\n",
       " ('들어갑니다', 'Verb'),\n",
       " ('.', 'Punctuation')]"
      ]
     },
     "execution_count": 14,
     "metadata": {},
     "output_type": "execute_result"
    }
   ],
   "source": [
    "pos=okt.pos(text)\n",
    "pos"
   ]
  },
  {
   "cell_type": "code",
   "execution_count": 15,
   "id": "3fa9c9e6",
   "metadata": {},
   "outputs": [
    {
     "data": {
      "text/plain": [
       "['아버지', '방']"
      ]
     },
     "execution_count": 15,
     "metadata": {},
     "output_type": "execute_result"
    }
   ],
   "source": [
    "nouns=okt.nouns(text)\n",
    "nouns"
   ]
  },
  {
   "cell_type": "code",
   "execution_count": 17,
   "id": "8bbe16ef",
   "metadata": {},
   "outputs": [
    {
     "data": {
      "text/plain": [
       "'오늘 날씨가 좋아요ㅋㅋ'"
      ]
     },
     "execution_count": 17,
     "metadata": {},
     "output_type": "execute_result"
    }
   ],
   "source": [
    "text=\"오늘 날씨가 좋아욬ㅋㅋ\"\n",
    "okt.normalize(text)"
   ]
  },
  {
   "cell_type": "code",
   "execution_count": 18,
   "id": "f4d2d8ae",
   "metadata": {},
   "outputs": [
    {
     "data": {
      "text/plain": [
       "['오늘', '오늘 날씨', '좋아욬', '날씨']"
      ]
     },
     "execution_count": 18,
     "metadata": {},
     "output_type": "execute_result"
    }
   ],
   "source": [
    "okt.phrases(text)"
   ]
  },
  {
   "cell_type": "markdown",
   "id": "457f2d7a",
   "metadata": {},
   "source": [
    "## 3.2.4 사용자 사전 구축"
   ]
  },
  {
   "cell_type": "code",
   "execution_count": 19,
   "id": "6ae29271",
   "metadata": {},
   "outputs": [
    {
     "data": {
      "text/plain": [
       "[('우리', 'NP'),\n",
       " ('챗봇은', 'NA'),\n",
       " ('엔', 'NNB'),\n",
       " ('엘', 'NNP'),\n",
       " ('피', 'NNG'),\n",
       " ('를', 'JKO'),\n",
       " ('좋아하', 'VV'),\n",
       " ('아', 'EF'),\n",
       " ('.', 'SF')]"
      ]
     },
     "execution_count": 19,
     "metadata": {},
     "output_type": "execute_result"
    }
   ],
   "source": [
    "text=\"우리 챗봇은 엔엘피를 좋아해.\"\n",
    "pos=komoran.pos(text)\n",
    "pos"
   ]
  },
  {
   "cell_type": "code",
   "execution_count": 29,
   "id": "ec5784c0",
   "metadata": {},
   "outputs": [
    {
     "data": {
      "text/plain": [
       "[('우리', 'NP'),\n",
       " ('챗봇은', 'NA'),\n",
       " ('엔엘피', 'NNG'),\n",
       " ('를', 'JKO'),\n",
       " ('좋아하', 'VV'),\n",
       " ('아', 'EF'),\n",
       " ('.', 'SF')]"
      ]
     },
     "execution_count": 29,
     "metadata": {},
     "output_type": "execute_result"
    }
   ],
   "source": [
    "komoran=Komoran(userdic='user_dic.tsv')\n",
    "pos=komoran.pos(text)\n",
    "pos"
   ]
  },
  {
   "cell_type": "code",
   "execution_count": null,
   "id": "a85de3e5",
   "metadata": {},
   "outputs": [],
   "source": []
  }
 ],
 "metadata": {
  "kernelspec": {
   "display_name": "Python 3 (ipykernel)",
   "language": "python",
   "name": "python3"
  },
  "language_info": {
   "codemirror_mode": {
    "name": "ipython",
    "version": 3
   },
   "file_extension": ".py",
   "mimetype": "text/x-python",
   "name": "python",
   "nbconvert_exporter": "python",
   "pygments_lexer": "ipython3",
   "version": "3.9.12"
  }
 },
 "nbformat": 4,
 "nbformat_minor": 5
}
