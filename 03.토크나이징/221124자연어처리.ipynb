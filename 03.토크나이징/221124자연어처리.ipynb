{
  "nbformat": 4,
  "nbformat_minor": 0,
  "metadata": {
    "colab": {
      "provenance": []
    },
    "kernelspec": {
      "name": "python3",
      "display_name": "Python 3"
    },
    "language_info": {
      "name": "python"
    }
  },
  "cells": [
    {
      "cell_type": "markdown",
      "source": [
        "# 3.2.1 Kkma"
      ],
      "metadata": {
        "id": "Whh0kAk0c1ws"
      }
    },
    {
      "cell_type": "code",
      "source": [
        "!pip install --target=$my_path konlpy"
      ],
      "metadata": {
        "colab": {
          "base_uri": "https://localhost:8080/"
        },
        "id": "u6nTGQlPcU2z",
        "outputId": "62782bce-963c-4d19-aeed-77787430ad0e"
      },
      "execution_count": 2,
      "outputs": [
        {
          "output_type": "stream",
          "name": "stdout",
          "text": [
            "Looking in indexes: https://pypi.org/simple, https://us-python.pkg.dev/colab-wheels/public/simple/\n",
            "Collecting konlpy\n",
            "  Downloading konlpy-0.6.0-py2.py3-none-any.whl (19.4 MB)\n",
            "\u001b[K     |████████████████████████████████| 19.4 MB 1.2 MB/s \n",
            "\u001b[?25hRequirement already satisfied: numpy>=1.6 in /usr/local/lib/python3.7/dist-packages (from konlpy) (1.21.6)\n",
            "Requirement already satisfied: lxml>=4.1.0 in /usr/local/lib/python3.7/dist-packages (from konlpy) (4.9.1)\n",
            "Collecting JPype1>=0.7.0\n",
            "  Downloading JPype1-1.4.1-cp37-cp37m-manylinux_2_12_x86_64.manylinux2010_x86_64.whl (465 kB)\n",
            "\u001b[K     |████████████████████████████████| 465 kB 69.2 MB/s \n",
            "\u001b[?25hRequirement already satisfied: packaging in /usr/local/lib/python3.7/dist-packages (from JPype1>=0.7.0->konlpy) (21.3)\n",
            "Requirement already satisfied: typing-extensions in /usr/local/lib/python3.7/dist-packages (from JPype1>=0.7.0->konlpy) (4.1.1)\n",
            "Requirement already satisfied: pyparsing!=3.0.5,>=2.0.2 in /usr/local/lib/python3.7/dist-packages (from packaging->JPype1>=0.7.0->konlpy) (3.0.9)\n",
            "Installing collected packages: JPype1, konlpy\n",
            "Successfully installed JPype1-1.4.1 konlpy-0.6.0\n"
          ]
        }
      ]
    },
    {
      "cell_type": "code",
      "execution_count": 3,
      "metadata": {
        "colab": {
          "base_uri": "https://localhost:8080/"
        },
        "id": "q1BZQDwGb0Ql",
        "outputId": "eec3fb38-3d68-4d7f-a165-6bc52698ad40"
      },
      "outputs": [
        {
          "output_type": "execute_result",
          "data": {
            "text/plain": [
              "['아버지', '가', '방', '에', '들어가', 'ㅂ니다', '.']"
            ]
          },
          "metadata": {},
          "execution_count": 3
        }
      ],
      "source": [
        "from konlpy.tag import Kkma\n",
        "\n",
        "kkma=Kkma()\n",
        "\n",
        "text=\"아버지가 방에 들어갑니다.\"\n",
        "\n",
        "morphs=kkma.morphs(text)\n",
        "morphs"
      ]
    },
    {
      "cell_type": "code",
      "source": [
        "pos=kkma.pos(text)\n",
        "pos"
      ],
      "metadata": {
        "colab": {
          "base_uri": "https://localhost:8080/"
        },
        "id": "pQHsBZIXcCyi",
        "outputId": "1838ecc3-22a1-413f-e096-935a7177b2e9"
      },
      "execution_count": 5,
      "outputs": [
        {
          "output_type": "execute_result",
          "data": {
            "text/plain": [
              "[('아버지', 'NNG'),\n",
              " ('가', 'JKS'),\n",
              " ('방', 'NNG'),\n",
              " ('에', 'JKM'),\n",
              " ('들어가', 'VV'),\n",
              " ('ㅂ니다', 'EFN'),\n",
              " ('.', 'SF')]"
            ]
          },
          "metadata": {},
          "execution_count": 5
        }
      ]
    },
    {
      "cell_type": "code",
      "source": [
        "nouns=kkma.nouns(text)\n",
        "nouns"
      ],
      "metadata": {
        "colab": {
          "base_uri": "https://localhost:8080/"
        },
        "id": "pBIEkkbRchUL",
        "outputId": "6aa3f52f-6ba7-45e3-a8f2-546ad19f5656"
      },
      "execution_count": 6,
      "outputs": [
        {
          "output_type": "execute_result",
          "data": {
            "text/plain": [
              "['아버지', '방']"
            ]
          },
          "metadata": {},
          "execution_count": 6
        }
      ]
    },
    {
      "cell_type": "code",
      "source": [
        "sentences=\"오늘 날씨는 어때요? 내일은 덥다던데.\"\n",
        "s=kkma.sentences(sentences)\n",
        "s"
      ],
      "metadata": {
        "colab": {
          "base_uri": "https://localhost:8080/"
        },
        "id": "XgiUuHs5clD2",
        "outputId": "c4fadf1a-e173-45cd-c195-26209fbf3a7a"
      },
      "execution_count": 7,
      "outputs": [
        {
          "output_type": "execute_result",
          "data": {
            "text/plain": [
              "['오늘 날씨는 어 때요?', '내일은 덥다 던데.']"
            ]
          },
          "metadata": {},
          "execution_count": 7
        }
      ]
    },
    {
      "cell_type": "markdown",
      "source": [
        "# 3.2.2 Komoran"
      ],
      "metadata": {
        "id": "YR4lrP2Yc5Fj"
      }
    },
    {
      "cell_type": "code",
      "source": [
        "from konlpy.tag import Komoran"
      ],
      "metadata": {
        "id": "fzfeqw9_cqPw"
      },
      "execution_count": 8,
      "outputs": []
    },
    {
      "cell_type": "code",
      "source": [
        "komoran=Komoran()\n",
        "\n",
        "text=\"아버지가 방에 들어갑니다.\"\n",
        "\n",
        "morphs=komoran.morphs(text)\n",
        "morphs"
      ],
      "metadata": {
        "colab": {
          "base_uri": "https://localhost:8080/"
        },
        "id": "EgCX69V8c_CB",
        "outputId": "d1a39fb0-2882-42de-e02b-a82d035468bf"
      },
      "execution_count": 9,
      "outputs": [
        {
          "output_type": "execute_result",
          "data": {
            "text/plain": [
              "['아버지', '가', '방', '에', '들어가', 'ㅂ니다', '.']"
            ]
          },
          "metadata": {},
          "execution_count": 9
        }
      ]
    },
    {
      "cell_type": "code",
      "source": [
        "pos=komoran.pos(text)\n",
        "pos"
      ],
      "metadata": {
        "colab": {
          "base_uri": "https://localhost:8080/"
        },
        "id": "3gUnMlIUdJp8",
        "outputId": "0d7d1aeb-2ce0-42f8-8ad3-5e6bac9b9dee"
      },
      "execution_count": 10,
      "outputs": [
        {
          "output_type": "execute_result",
          "data": {
            "text/plain": [
              "[('아버지', 'NNG'),\n",
              " ('가', 'JKS'),\n",
              " ('방', 'NNG'),\n",
              " ('에', 'JKB'),\n",
              " ('들어가', 'VV'),\n",
              " ('ㅂ니다', 'EF'),\n",
              " ('.', 'SF')]"
            ]
          },
          "metadata": {},
          "execution_count": 10
        }
      ]
    },
    {
      "cell_type": "code",
      "source": [
        "nouns=komoran.nouns(text)\n",
        "nouns"
      ],
      "metadata": {
        "colab": {
          "base_uri": "https://localhost:8080/"
        },
        "id": "dQrUsqi7dN0X",
        "outputId": "141194da-7479-45cf-f9ec-10adf434ea07"
      },
      "execution_count": 11,
      "outputs": [
        {
          "output_type": "execute_result",
          "data": {
            "text/plain": [
              "['아버지', '방']"
            ]
          },
          "metadata": {},
          "execution_count": 11
        }
      ]
    },
    {
      "cell_type": "markdown",
      "source": [
        "# 3.2.3 Okt"
      ],
      "metadata": {
        "id": "7gqPnq-sdf0V"
      }
    },
    {
      "cell_type": "code",
      "source": [
        "from konlpy.tag import Okt"
      ],
      "metadata": {
        "id": "XnnDk16sdQu4"
      },
      "execution_count": 12,
      "outputs": []
    },
    {
      "cell_type": "code",
      "source": [
        "okt=Okt()\n",
        "\n",
        "text=\"어깨가 뻐근하네.\"\n",
        "\n",
        "morphs=okt.morphs(text)\n",
        "print(morphs)\n",
        "\n",
        "pos=okt.pos(text)\n",
        "print(pos)\n",
        "\n",
        "nouns=okt.nouns(text)\n",
        "print(nouns)\n",
        "\n",
        "text=\"기분이 별로에욬ㅋㅋ\"\n",
        "print(okt.normalize(text))\n",
        "print(okt.phrases(text))"
      ],
      "metadata": {
        "colab": {
          "base_uri": "https://localhost:8080/"
        },
        "id": "Ng2v_PQldhMR",
        "outputId": "60e80de2-86c6-4070-fed2-b9c0d6c27406"
      },
      "execution_count": 13,
      "outputs": [
        {
          "output_type": "stream",
          "name": "stdout",
          "text": [
            "['어깨', '가', '뻐근하네', '.']\n",
            "[('어깨', 'Noun'), ('가', 'Josa'), ('뻐근하네', 'Adjective'), ('.', 'Punctuation')]\n",
            "['어깨']\n",
            "기분이 별로에요ㅋㅋ\n",
            "['기분', '별로']\n"
          ]
        }
      ]
    },
    {
      "cell_type": "markdown",
      "source": [
        "# 3.2.4 사용자 사전 구축"
      ],
      "metadata": {
        "id": "645bPTxpgacr"
      }
    },
    {
      "cell_type": "code",
      "source": [
        "text=\"우리 챗봇은 엔엘피를 좋아해.\"\n",
        "pos=komoran.pos(text)\n",
        "pos"
      ],
      "metadata": {
        "colab": {
          "base_uri": "https://localhost:8080/"
        },
        "id": "lbFOWszagFEa",
        "outputId": "eb43b6c1-41a5-4625-ce17-fdf5945531a5"
      },
      "execution_count": 14,
      "outputs": [
        {
          "output_type": "execute_result",
          "data": {
            "text/plain": [
              "[('우리', 'NP'),\n",
              " ('챗봇은', 'NA'),\n",
              " ('엔', 'NNB'),\n",
              " ('엘', 'NNP'),\n",
              " ('피', 'NNG'),\n",
              " ('를', 'JKO'),\n",
              " ('좋아하', 'VV'),\n",
              " ('아', 'EF'),\n",
              " ('.', 'SF')]"
            ]
          },
          "metadata": {},
          "execution_count": 14
        }
      ]
    },
    {
      "cell_type": "code",
      "source": [
        "from google.colab import drive\n",
        "drive.mount('/content/gdrive')"
      ],
      "metadata": {
        "colab": {
          "base_uri": "https://localhost:8080/"
        },
        "id": "0DE1vohwgiWY",
        "outputId": "09f78a5a-f495-4e87-a550-a90ea55d7d7c"
      },
      "execution_count": 15,
      "outputs": [
        {
          "output_type": "stream",
          "name": "stdout",
          "text": [
            "Mounted at /content/gdrive\n"
          ]
        }
      ]
    },
    {
      "cell_type": "code",
      "source": [
        "komoran=Komoran(userdic='user_dic.tsv') # 코랩으로 써서 그런가 안돌아감\n",
        "pos=komoran.pos(text)\n",
        "pos"
      ],
      "metadata": {
        "colab": {
          "base_uri": "https://localhost:8080/"
        },
        "id": "NvQ-iorLiOPc",
        "outputId": "88165ae2-4f64-4893-d1d1-ba0d396f5a05"
      },
      "execution_count": 22,
      "outputs": [
        {
          "output_type": "execute_result",
          "data": {
            "text/plain": [
              "[('우리', 'NP'),\n",
              " ('챗봇은', 'NA'),\n",
              " ('엔', 'NNB'),\n",
              " ('엘', 'NNP'),\n",
              " ('피', 'NNG'),\n",
              " ('를', 'JKO'),\n",
              " ('좋아하', 'VV'),\n",
              " ('아', 'EF'),\n",
              " ('.', 'SF')]"
            ]
          },
          "metadata": {},
          "execution_count": 22
        }
      ]
    },
    {
      "cell_type": "code",
      "source": [],
      "metadata": {
        "id": "LBpNdRpMimLn"
      },
      "execution_count": null,
      "outputs": []
    }
  ]
}